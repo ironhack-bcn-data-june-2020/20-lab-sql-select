{
 "cells": [
  {
   "cell_type": "code",
   "execution_count": 4,
   "metadata": {},
   "outputs": [
    {
     "name": "stdout",
     "output_type": "stream",
     "text": [
      "The sql extension is already loaded. To reload it, use:\n",
      "  %reload_ext sql\n"
     ]
    }
   ],
   "source": [
    "%load_ext sql\n"
   ]
  },
  {
   "cell_type": "code",
   "execution_count": 5,
   "metadata": {},
   "outputs": [],
   "source": [
    "%sql sqlite:///20-lab-sql-select\\publications.db"
   ]
  },
  {
   "cell_type": "code",
   "execution_count": 6,
   "metadata": {},
   "outputs": [
    {
     "name": "stdout",
     "output_type": "stream",
     "text": [
      " * sqlite:///20-lab-sql-select\\publications.db\n",
      "Done.\n"
     ]
    },
    {
     "data": {
      "text/html": [
       "<table>\n",
       "    <tr>\n",
       "        <th>name</th>\n",
       "    </tr>\n",
       "    <tr>\n",
       "        <td>authors</td>\n",
       "    </tr>\n",
       "    <tr>\n",
       "        <td>discounts</td>\n",
       "    </tr>\n",
       "    <tr>\n",
       "        <td>employee</td>\n",
       "    </tr>\n",
       "    <tr>\n",
       "        <td>jobs</td>\n",
       "    </tr>\n",
       "    <tr>\n",
       "        <td>pub_info</td>\n",
       "    </tr>\n",
       "    <tr>\n",
       "        <td>publishers</td>\n",
       "    </tr>\n",
       "    <tr>\n",
       "        <td>roysched</td>\n",
       "    </tr>\n",
       "    <tr>\n",
       "        <td>sales</td>\n",
       "    </tr>\n",
       "    <tr>\n",
       "        <td>stores</td>\n",
       "    </tr>\n",
       "    <tr>\n",
       "        <td>titleauthor</td>\n",
       "    </tr>\n",
       "    <tr>\n",
       "        <td>titles</td>\n",
       "    </tr>\n",
       "</table>"
      ],
      "text/plain": [
       "[('authors',),\n",
       " ('discounts',),\n",
       " ('employee',),\n",
       " ('jobs',),\n",
       " ('pub_info',),\n",
       " ('publishers',),\n",
       " ('roysched',),\n",
       " ('sales',),\n",
       " ('stores',),\n",
       " ('titleauthor',),\n",
       " ('titles',)]"
      ]
     },
     "execution_count": 6,
     "metadata": {},
     "output_type": "execute_result"
    }
   ],
   "source": [
    "%%sql\n",
    "SELECT name FROM sqlite_master\n",
    "WHERE type='table'\n",
    "ORDER BY name;"
   ]
  },
  {
   "cell_type": "code",
   "execution_count": 7,
   "metadata": {},
   "outputs": [
    {
     "name": "stdout",
     "output_type": "stream",
     "text": [
      " * sqlite:///20-lab-sql-select\\publications.db\n",
      "Done.\n"
     ]
    },
    {
     "data": {
      "text/html": [
       "<table>\n",
       "    <tr>\n",
       "        <th>title_id</th>\n",
       "        <th>title</th>\n",
       "        <th>type</th>\n",
       "        <th>pub_id</th>\n",
       "        <th>price</th>\n",
       "        <th>advance</th>\n",
       "        <th>royalty</th>\n",
       "        <th>ytd_sales</th>\n",
       "        <th>notes</th>\n",
       "        <th>pubdate</th>\n",
       "    </tr>\n",
       "    <tr>\n",
       "        <td>BU1032</td>\n",
       "        <td>The Busy Executive&#x27;s Database Guide</td>\n",
       "        <td>business</td>\n",
       "        <td>1389</td>\n",
       "        <td>19.99</td>\n",
       "        <td>5000</td>\n",
       "        <td>10</td>\n",
       "        <td>4095</td>\n",
       "        <td>An overview of available database systems with emphasis on common business applications. Illustrated.</td>\n",
       "        <td>1991-06-12 00:00:00</td>\n",
       "    </tr>\n",
       "    <tr>\n",
       "        <td>BU1111</td>\n",
       "        <td>Cooking with Computers: Surreptitious Balance Sheets</td>\n",
       "        <td>business</td>\n",
       "        <td>1389</td>\n",
       "        <td>11.95</td>\n",
       "        <td>5000</td>\n",
       "        <td>10</td>\n",
       "        <td>3876</td>\n",
       "        <td>Helpful hints on how to use your electronic resources to the best advantage.</td>\n",
       "        <td>1991-06-09 00:00:00</td>\n",
       "    </tr>\n",
       "    <tr>\n",
       "        <td>BU2075</td>\n",
       "        <td>You Can Combat Computer Stress!</td>\n",
       "        <td>business</td>\n",
       "        <td>0736</td>\n",
       "        <td>2.99</td>\n",
       "        <td>10125</td>\n",
       "        <td>24</td>\n",
       "        <td>18722</td>\n",
       "        <td>The latest medical and psychological techniques for living with the electronic office. Easy-to-understand explanations.</td>\n",
       "        <td>1991-06-30 00:00:00</td>\n",
       "    </tr>\n",
       "    <tr>\n",
       "        <td>BU7832</td>\n",
       "        <td>Straight Talk About Computers</td>\n",
       "        <td>business</td>\n",
       "        <td>1389</td>\n",
       "        <td>19.99</td>\n",
       "        <td>5000</td>\n",
       "        <td>10</td>\n",
       "        <td>4095</td>\n",
       "        <td>Annotated analysis of what computers can do for you: a no-hype guide for the critical user.</td>\n",
       "        <td>1991-06-22 00:00:00</td>\n",
       "    </tr>\n",
       "    <tr>\n",
       "        <td>MC2222</td>\n",
       "        <td>Silicon Valley Gastronomic Treats</td>\n",
       "        <td>mod_cook</td>\n",
       "        <td>0877</td>\n",
       "        <td>19.99</td>\n",
       "        <td>0</td>\n",
       "        <td>12</td>\n",
       "        <td>2032</td>\n",
       "        <td>Favorite recipes for quick, easy, and elegant meals.</td>\n",
       "        <td>1991-06-09 00:00:00</td>\n",
       "    </tr>\n",
       "    <tr>\n",
       "        <td>MC3021</td>\n",
       "        <td>The Gourmet Microwave</td>\n",
       "        <td>mod_cook</td>\n",
       "        <td>0877</td>\n",
       "        <td>2.99</td>\n",
       "        <td>15000</td>\n",
       "        <td>24</td>\n",
       "        <td>22246</td>\n",
       "        <td>Traditional French gourmet recipes adapted for modern microwave cooking.</td>\n",
       "        <td>1991-06-18 00:00:00</td>\n",
       "    </tr>\n",
       "    <tr>\n",
       "        <td>MC3026</td>\n",
       "        <td>The Psychology of Computer Cooking</td>\n",
       "        <td>UNDECIDED</td>\n",
       "        <td>0877</td>\n",
       "        <td>None</td>\n",
       "        <td>None</td>\n",
       "        <td>None</td>\n",
       "        <td>None</td>\n",
       "        <td>None</td>\n",
       "        <td>2014-11-07 10:39:37</td>\n",
       "    </tr>\n",
       "    <tr>\n",
       "        <td>PC1035</td>\n",
       "        <td>But Is It User Friendly?</td>\n",
       "        <td>popular_comp</td>\n",
       "        <td>1389</td>\n",
       "        <td>22.95</td>\n",
       "        <td>7000</td>\n",
       "        <td>16</td>\n",
       "        <td>8780</td>\n",
       "        <td>A survey of software for the naive user, focusing on the &#x27;friendliness&#x27; of each.</td>\n",
       "        <td>1991-06-30 00:00:00</td>\n",
       "    </tr>\n",
       "    <tr>\n",
       "        <td>PC8888</td>\n",
       "        <td>Secrets of Silicon Valley</td>\n",
       "        <td>popular_comp</td>\n",
       "        <td>1389</td>\n",
       "        <td>20</td>\n",
       "        <td>8000</td>\n",
       "        <td>10</td>\n",
       "        <td>4095</td>\n",
       "        <td>Muckraking reporting on the world&#x27;s largest computer hardware and software manufacturers.</td>\n",
       "        <td>1994-06-12 00:00:00</td>\n",
       "    </tr>\n",
       "    <tr>\n",
       "        <td>PC9999</td>\n",
       "        <td>Net Etiquette</td>\n",
       "        <td>popular_comp</td>\n",
       "        <td>1389</td>\n",
       "        <td>None</td>\n",
       "        <td>None</td>\n",
       "        <td>None</td>\n",
       "        <td>None</td>\n",
       "        <td>A must-read for computer conferencing.</td>\n",
       "        <td>2014-11-07 10:39:37</td>\n",
       "    </tr>\n",
       "</table>"
      ],
      "text/plain": [
       "[('BU1032', \"The Busy Executive's Database Guide\", 'business', '1389', 19.99, 5000, 10, 4095, 'An overview of available database systems with emphasis on common business applications. Illustrated.', '1991-06-12 00:00:00'),\n",
       " ('BU1111', 'Cooking with Computers: Surreptitious Balance Sheets', 'business', '1389', 11.95, 5000, 10, 3876, 'Helpful hints on how to use your electronic resources to the best advantage.', '1991-06-09 00:00:00'),\n",
       " ('BU2075', 'You Can Combat Computer Stress!', 'business', '0736', 2.99, 10125, 24, 18722, 'The latest medical and psychological techniques for living with the electronic office. Easy-to-understand explanations.', '1991-06-30 00:00:00'),\n",
       " ('BU7832', 'Straight Talk About Computers', 'business', '1389', 19.99, 5000, 10, 4095, 'Annotated analysis of what computers can do for you: a no-hype guide for the critical user.', '1991-06-22 00:00:00'),\n",
       " ('MC2222', 'Silicon Valley Gastronomic Treats', 'mod_cook', '0877', 19.99, 0, 12, 2032, 'Favorite recipes for quick, easy, and elegant meals.', '1991-06-09 00:00:00'),\n",
       " ('MC3021', 'The Gourmet Microwave', 'mod_cook', '0877', 2.99, 15000, 24, 22246, 'Traditional French gourmet recipes adapted for modern microwave cooking.', '1991-06-18 00:00:00'),\n",
       " ('MC3026', 'The Psychology of Computer Cooking', 'UNDECIDED', '0877', None, None, None, None, None, '2014-11-07 10:39:37'),\n",
       " ('PC1035', 'But Is It User Friendly?', 'popular_comp', '1389', 22.95, 7000, 16, 8780, \"A survey of software for the naive user, focusing on the 'friendliness' of each.\", '1991-06-30 00:00:00'),\n",
       " ('PC8888', 'Secrets of Silicon Valley', 'popular_comp', '1389', 20, 8000, 10, 4095, \"Muckraking reporting on the world's largest computer hardware and software manufacturers.\", '1994-06-12 00:00:00'),\n",
       " ('PC9999', 'Net Etiquette', 'popular_comp', '1389', None, None, None, None, 'A must-read for computer conferencing.', '2014-11-07 10:39:37')]"
      ]
     },
     "execution_count": 7,
     "metadata": {},
     "output_type": "execute_result"
    }
   ],
   "source": [
    "%%sql\n",
    "select *\n",
    "from titles\n",
    "limit 10\n"
   ]
  },
  {
   "cell_type": "code",
   "execution_count": 8,
   "metadata": {},
   "outputs": [
    {
     "name": "stdout",
     "output_type": "stream",
     "text": [
      " * sqlite:///20-lab-sql-select\\publications.db\n",
      "Done.\n"
     ]
    },
    {
     "data": {
      "text/html": [
       "<table>\n",
       "    <tr>\n",
       "        <th>au_id</th>\n",
       "        <th>num_pub</th>\n",
       "    </tr>\n",
       "    <tr>\n",
       "        <td>172-32-1176</td>\n",
       "        <td>1</td>\n",
       "    </tr>\n",
       "    <tr>\n",
       "        <td>213-46-8915</td>\n",
       "        <td>2</td>\n",
       "    </tr>\n",
       "    <tr>\n",
       "        <td>238-95-7766</td>\n",
       "        <td>1</td>\n",
       "    </tr>\n",
       "    <tr>\n",
       "        <td>267-41-2394</td>\n",
       "        <td>2</td>\n",
       "    </tr>\n",
       "    <tr>\n",
       "        <td>274-80-9391</td>\n",
       "        <td>1</td>\n",
       "    </tr>\n",
       "    <tr>\n",
       "        <td>409-56-7008</td>\n",
       "        <td>1</td>\n",
       "    </tr>\n",
       "    <tr>\n",
       "        <td>427-17-2319</td>\n",
       "        <td>1</td>\n",
       "    </tr>\n",
       "    <tr>\n",
       "        <td>472-27-2349</td>\n",
       "        <td>1</td>\n",
       "    </tr>\n",
       "    <tr>\n",
       "        <td>486-29-1786</td>\n",
       "        <td>2</td>\n",
       "    </tr>\n",
       "    <tr>\n",
       "        <td>648-92-1872</td>\n",
       "        <td>1</td>\n",
       "    </tr>\n",
       "</table>"
      ],
      "text/plain": [
       "[('172-32-1176', 1),\n",
       " ('213-46-8915', 2),\n",
       " ('238-95-7766', 1),\n",
       " ('267-41-2394', 2),\n",
       " ('274-80-9391', 1),\n",
       " ('409-56-7008', 1),\n",
       " ('427-17-2319', 1),\n",
       " ('472-27-2349', 1),\n",
       " ('486-29-1786', 2),\n",
       " ('648-92-1872', 1)]"
      ]
     },
     "execution_count": 8,
     "metadata": {},
     "output_type": "execute_result"
    }
   ],
   "source": [
    "%%sql\n",
    "select au_id, count (title_id) as num_pub\n",
    "from titleauthor\n",
    "group by au_id\n",
    "limit 10"
   ]
  },
  {
   "cell_type": "code",
   "execution_count": 10,
   "metadata": {},
   "outputs": [
    {
     "ename": "SyntaxError",
     "evalue": "invalid syntax (<ipython-input-10-b76e2f1669d5>, line 1)",
     "output_type": "error",
     "traceback": [
      "\u001b[1;36m  File \u001b[1;32m\"<ipython-input-10-b76e2f1669d5>\"\u001b[1;36m, line \u001b[1;32m1\u001b[0m\n\u001b[1;33m    print(https://github.com/AlvaroNoriega/20-lab-sql-select/blob/master/authors.png)\u001b[0m\n\u001b[1;37m               ^\u001b[0m\n\u001b[1;31mSyntaxError\u001b[0m\u001b[1;31m:\u001b[0m invalid syntax\n"
     ]
    }
   ],
   "source": [
    "print(https://github.com/AlvaroNoriega/20-lab-sql-select/blob/master/authors.png)"
   ]
  },
  {
   "cell_type": "code",
   "execution_count": 11,
   "metadata": {},
   "outputs": [
    {
     "name": "stdout",
     "output_type": "stream",
     "text": [
      " * sqlite:///20-lab-sql-select\\publications.db\n",
      "Done.\n"
     ]
    },
    {
     "data": {
      "text/html": [
       "<table>\n",
       "    <tr>\n",
       "        <th>au_id</th>\n",
       "        <th>title_id</th>\n",
       "        <th>au_ord</th>\n",
       "        <th>royaltyper</th>\n",
       "    </tr>\n",
       "    <tr>\n",
       "        <td>172-32-1176</td>\n",
       "        <td>PS3333</td>\n",
       "        <td>1</td>\n",
       "        <td>100</td>\n",
       "    </tr>\n",
       "    <tr>\n",
       "        <td>213-46-8915</td>\n",
       "        <td>BU1032</td>\n",
       "        <td>2</td>\n",
       "        <td>40</td>\n",
       "    </tr>\n",
       "    <tr>\n",
       "        <td>213-46-8915</td>\n",
       "        <td>BU2075</td>\n",
       "        <td>1</td>\n",
       "        <td>100</td>\n",
       "    </tr>\n",
       "    <tr>\n",
       "        <td>238-95-7766</td>\n",
       "        <td>PC1035</td>\n",
       "        <td>1</td>\n",
       "        <td>100</td>\n",
       "    </tr>\n",
       "    <tr>\n",
       "        <td>267-41-2394</td>\n",
       "        <td>BU1111</td>\n",
       "        <td>2</td>\n",
       "        <td>40</td>\n",
       "    </tr>\n",
       "    <tr>\n",
       "        <td>267-41-2394</td>\n",
       "        <td>TC7777</td>\n",
       "        <td>2</td>\n",
       "        <td>30</td>\n",
       "    </tr>\n",
       "    <tr>\n",
       "        <td>274-80-9391</td>\n",
       "        <td>BU7832</td>\n",
       "        <td>1</td>\n",
       "        <td>100</td>\n",
       "    </tr>\n",
       "    <tr>\n",
       "        <td>409-56-7008</td>\n",
       "        <td>BU1032</td>\n",
       "        <td>1</td>\n",
       "        <td>60</td>\n",
       "    </tr>\n",
       "    <tr>\n",
       "        <td>427-17-2319</td>\n",
       "        <td>PC8888</td>\n",
       "        <td>1</td>\n",
       "        <td>50</td>\n",
       "    </tr>\n",
       "    <tr>\n",
       "        <td>472-27-2349</td>\n",
       "        <td>TC7777</td>\n",
       "        <td>3</td>\n",
       "        <td>30</td>\n",
       "    </tr>\n",
       "</table>"
      ],
      "text/plain": [
       "[('172-32-1176', 'PS3333', 1, 100),\n",
       " ('213-46-8915', 'BU1032', 2, 40),\n",
       " ('213-46-8915', 'BU2075', 1, 100),\n",
       " ('238-95-7766', 'PC1035', 1, 100),\n",
       " ('267-41-2394', 'BU1111', 2, 40),\n",
       " ('267-41-2394', 'TC7777', 2, 30),\n",
       " ('274-80-9391', 'BU7832', 1, 100),\n",
       " ('409-56-7008', 'BU1032', 1, 60),\n",
       " ('427-17-2319', 'PC8888', 1, 50),\n",
       " ('472-27-2349', 'TC7777', 3, 30)]"
      ]
     },
     "execution_count": 11,
     "metadata": {},
     "output_type": "execute_result"
    }
   ],
   "source": [
    "%%sql\n",
    "select *\n",
    "from titleauthor\n",
    "limit 10"
   ]
  },
  {
   "cell_type": "code",
   "execution_count": null,
   "metadata": {},
   "outputs": [],
   "source": []
  }
 ],
 "metadata": {
  "kernelspec": {
   "display_name": "Python 3",
   "language": "python",
   "name": "python3"
  },
  "language_info": {
   "codemirror_mode": {
    "name": "ipython",
    "version": 3
   },
   "file_extension": ".py",
   "mimetype": "text/x-python",
   "name": "python",
   "nbconvert_exporter": "python",
   "pygments_lexer": "ipython3",
   "version": "3.7.6"
  }
 },
 "nbformat": 4,
 "nbformat_minor": 4
}
