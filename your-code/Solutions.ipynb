{
 "cells": [
  {
   "cell_type": "code",
   "execution_count": 2,
   "metadata": {},
   "outputs": [],
   "source": [
    "%load_ext sql"
   ]
  },
  {
   "cell_type": "code",
   "execution_count": 3,
   "metadata": {},
   "outputs": [],
   "source": [
    "%sql sqlite://///Users/laurasg/Documents/Ironhack_data/20-lab-sql-select/publications.db"
   ]
  },
  {
   "cell_type": "code",
   "execution_count": 4,
   "metadata": {},
   "outputs": [],
   "source": [
    "%config SqlMagic.style = 'ALL'"
   ]
  },
  {
   "cell_type": "markdown",
   "metadata": {},
   "source": [
    "# Challenge 1"
   ]
  },
  {
   "cell_type": "code",
   "execution_count": 59,
   "metadata": {},
   "outputs": [
    {
     "name": "stdout",
     "output_type": "stream",
     "text": [
      " * sqlite://///Users/laurasg/Documents/Ironhack_data/20-lab-sql-select/publications.db\n",
      "(sqlite3.OperationalError) no such column: totalpubs\n",
      "[SQL: SELECT au.au_id AS 'AUTHOR ID', au.au_lname AS 'LAST NAME', au.au_fname AS 'FIRST NAME', tls.title AS 'TITLE', pubs.pub_name AS 'PUBLISHER' \n",
      "FROM authors au\n",
      "JOIN \n",
      "    titleauthor ta ON au.au_id=ta.au_id\n",
      "JOIN\n",
      "    titles tls ON ta.title_id = tls.title_id  \n",
      "JOIN\n",
      "    publishers pubs ON tls.pub_id = pubs.pub_id\n",
      "JOIN\n",
      "    publishers AS totalpubs ON tls.pub_id = totalpubs.pub_id\n",
      "GROUP BY\n",
      "    totalpubs]\n",
      "(Background on this error at: http://sqlalche.me/e/13/e3q8)\n"
     ]
    }
   ],
   "source": [
    "%%sql\n",
    "SELECT au.au_id AS 'AUTHOR ID', au.au_lname AS 'LAST NAME', au.au_fname AS 'FIRST NAME', tls.title AS 'TITLE', pubs.pub_name AS 'PUBLISHER' \n",
    "FROM authors au\n",
    "JOIN \n",
    "    titleauthor ta ON au.au_id=ta.au_id\n",
    "JOIN\n",
    "    titles tls ON ta.title_id = tls.title_id  \n",
    "JOIN\n",
    "    publishers pubs ON tls.pub_id = pubs.pub_id\n",
    "JOIN\n",
    "    publishers AS totalpubs ON tls.pub_id = totalpubs.pub_id\n",
    "GROUP BY\n",
    "    totalpubs\n"
   ]
  },
  {
   "cell_type": "code",
   "execution_count": 32,
   "metadata": {},
   "outputs": [
    {
     "name": "stdout",
     "output_type": "stream",
     "text": [
      " * sqlite://///Users/laurasg/Documents/Ironhack_data/20-lab-sql-select/publications.db\n",
      "Done.\n"
     ]
    },
    {
     "data": {
      "text/html": [
       "<table>\n",
       "    <tr>\n",
       "        <th>count (*)</th>\n",
       "    </tr>\n",
       "    <tr>\n",
       "        <td>25</td>\n",
       "    </tr>\n",
       "</table>"
      ],
      "text/plain": [
       "[(25,)]"
      ]
     },
     "execution_count": 32,
     "metadata": {},
     "output_type": "execute_result"
    }
   ],
   "source": [
    "%%sql\n",
    "SELECT count (*)\n",
    "FROM authors au\n",
    "JOIN \n",
    "    titleauthor ta ON au.au_id=ta.au_id\n",
    "JOIN\n",
    "    titles tls ON ta.title_id = tls.title_id  \n",
    "JOIN\n",
    "    publishers pubs ON tls.pub_id = pubs.pub_id \n"
   ]
  },
  {
   "cell_type": "code",
   "execution_count": 33,
   "metadata": {},
   "outputs": [
    {
     "name": "stdout",
     "output_type": "stream",
     "text": [
      " * sqlite://///Users/laurasg/Documents/Ironhack_data/20-lab-sql-select/publications.db\n",
      "Done.\n"
     ]
    },
    {
     "data": {
      "text/html": [
       "<table>\n",
       "    <tr>\n",
       "        <th>count(*)</th>\n",
       "    </tr>\n",
       "    <tr>\n",
       "        <td>25</td>\n",
       "    </tr>\n",
       "</table>"
      ],
      "text/plain": [
       "[(25,)]"
      ]
     },
     "execution_count": 33,
     "metadata": {},
     "output_type": "execute_result"
    }
   ],
   "source": [
    "%%sql\n",
    "SELECT count(*)\n",
    "FROM titleauthor\n"
   ]
  },
  {
   "cell_type": "markdown",
   "metadata": {},
   "source": [
    "# Challenge 2"
   ]
  },
  {
   "cell_type": "code",
   "execution_count": 43,
   "metadata": {},
   "outputs": [
    {
     "name": "stdout",
     "output_type": "stream",
     "text": [
      " * sqlite://///Users/laurasg/Documents/Ironhack_data/20-lab-sql-select/publications.db\n",
      "Done.\n"
     ]
    },
    {
     "data": {
      "text/html": [
       "<table>\n",
       "    <tr>\n",
       "        <th>pub_name</th>\n",
       "        <th>title_id</th>\n",
       "        <th>TITLE COUNT</th>\n",
       "    </tr>\n",
       "    <tr>\n",
       "        <td>Algodata Infosystems</td>\n",
       "        <td>BU1032</td>\n",
       "        <td>6</td>\n",
       "    </tr>\n",
       "    <tr>\n",
       "        <td>Binnet &amp; Hardley</td>\n",
       "        <td>MC2222</td>\n",
       "        <td>7</td>\n",
       "    </tr>\n",
       "    <tr>\n",
       "        <td>New Moon Books</td>\n",
       "        <td>BU2075</td>\n",
       "        <td>5</td>\n",
       "    </tr>\n",
       "</table>"
      ],
      "text/plain": [
       "[('Algodata Infosystems', 'BU1032', 6),\n",
       " ('Binnet & Hardley', 'MC2222', 7),\n",
       " ('New Moon Books', 'BU2075', 5)]"
      ]
     },
     "execution_count": 43,
     "metadata": {},
     "output_type": "execute_result"
    }
   ],
   "source": [
    "%%sql\n",
    "SELECT pubs.pub_name, titles.title_id, COUNT (*) AS 'TITLE COUNT'\n",
    "FROM publishers pubs\n",
    "JOIN titles titles\n",
    "ON pubs.pub_id = titles.pub_id\n",
    "GROUP BY 'AUTHOR ID'"
   ]
  },
  {
   "cell_type": "code",
   "execution_count": 82,
   "metadata": {},
   "outputs": [
    {
     "name": "stdout",
     "output_type": "stream",
     "text": [
      " * sqlite://///Users/laurasg/Documents/Ironhack_data/20-lab-sql-select/publications.db\n",
      "Done.\n"
     ]
    },
    {
     "data": {
      "text/html": [
       "<table>\n",
       "    <tr>\n",
       "        <th>AUTHOR ID</th>\n",
       "        <th>LAST NAME</th>\n",
       "        <th>FIRST NAME</th>\n",
       "        <th>PUBLISHER</th>\n",
       "        <th>TITLE COUNT</th>\n",
       "    </tr>\n",
       "    <tr>\n",
       "        <td>238-95-7766</td>\n",
       "        <td>Carson</td>\n",
       "        <td>Cheryl</td>\n",
       "        <td>Algodata Infosystems</td>\n",
       "        <td>1</td>\n",
       "    </tr>\n",
       "    <tr>\n",
       "        <td>724-80-9391</td>\n",
       "        <td>MacFeather</td>\n",
       "        <td>Stearns</td>\n",
       "        <td>Binnet &amp; Hardley</td>\n",
       "        <td>2</td>\n",
       "    </tr>\n",
       "    <tr>\n",
       "        <td>267-41-2394</td>\n",
       "        <td>O&#x27;Leary</td>\n",
       "        <td>Michael</td>\n",
       "        <td>Algodata Infosystems</td>\n",
       "        <td>2</td>\n",
       "    </tr>\n",
       "    <tr>\n",
       "        <td>486-29-1786</td>\n",
       "        <td>Locksley</td>\n",
       "        <td>Charlene</td>\n",
       "        <td>New Moon Books</td>\n",
       "        <td>1</td>\n",
       "    </tr>\n",
       "    <tr>\n",
       "        <td>648-92-1872</td>\n",
       "        <td>Blotchet-Halls</td>\n",
       "        <td>Reginald</td>\n",
       "        <td>Binnet &amp; Hardley</td>\n",
       "        <td>1</td>\n",
       "    </tr>\n",
       "    <tr>\n",
       "        <td>899-46-2035</td>\n",
       "        <td>Ringer</td>\n",
       "        <td>Anne</td>\n",
       "        <td>New Moon Books</td>\n",
       "        <td>2</td>\n",
       "    </tr>\n",
       "    <tr>\n",
       "        <td>998-72-3567</td>\n",
       "        <td>Ringer</td>\n",
       "        <td>Albert</td>\n",
       "        <td>New Moon Books</td>\n",
       "        <td>1</td>\n",
       "    </tr>\n",
       "    <tr>\n",
       "        <td>486-29-1786</td>\n",
       "        <td>Locksley</td>\n",
       "        <td>Charlene</td>\n",
       "        <td>Algodata Infosystems</td>\n",
       "        <td>1</td>\n",
       "    </tr>\n",
       "    <tr>\n",
       "        <td>807-91-6654</td>\n",
       "        <td>Panteley</td>\n",
       "        <td>Sylvia</td>\n",
       "        <td>Binnet &amp; Hardley</td>\n",
       "        <td>1</td>\n",
       "    </tr>\n",
       "    <tr>\n",
       "        <td>172-32-1176</td>\n",
       "        <td>White</td>\n",
       "        <td>Johnson</td>\n",
       "        <td>New Moon Books</td>\n",
       "        <td>1</td>\n",
       "    </tr>\n",
       "    <tr>\n",
       "        <td>427-17-2319</td>\n",
       "        <td>Dull</td>\n",
       "        <td>Ann</td>\n",
       "        <td>Algodata Infosystems</td>\n",
       "        <td>2</td>\n",
       "    </tr>\n",
       "    <tr>\n",
       "        <td>712-45-1867</td>\n",
       "        <td>del Castillo</td>\n",
       "        <td>Innes</td>\n",
       "        <td>Binnet &amp; Hardley</td>\n",
       "        <td>1</td>\n",
       "    </tr>\n",
       "    <tr>\n",
       "        <td>274-80-9391</td>\n",
       "        <td>Straight</td>\n",
       "        <td>Dean</td>\n",
       "        <td>Algodata Infosystems</td>\n",
       "        <td>1</td>\n",
       "    </tr>\n",
       "    <tr>\n",
       "        <td>267-41-2394</td>\n",
       "        <td>O&#x27;Leary</td>\n",
       "        <td>Michael</td>\n",
       "        <td>Binnet &amp; Hardley</td>\n",
       "        <td>3</td>\n",
       "    </tr>\n",
       "    <tr>\n",
       "        <td>213-46-8915</td>\n",
       "        <td>Green</td>\n",
       "        <td>Marjorie</td>\n",
       "        <td>Algodata Infosystems</td>\n",
       "        <td>2</td>\n",
       "    </tr>\n",
       "    <tr>\n",
       "        <td>722-51-5454</td>\n",
       "        <td>DeFrance</td>\n",
       "        <td>Michel</td>\n",
       "        <td>Binnet &amp; Hardley</td>\n",
       "        <td>2</td>\n",
       "    </tr>\n",
       "    <tr>\n",
       "        <td>213-46-8915</td>\n",
       "        <td>Green</td>\n",
       "        <td>Marjorie</td>\n",
       "        <td>New Moon Books</td>\n",
       "        <td>1</td>\n",
       "    </tr>\n",
       "</table>"
      ],
      "text/plain": [
       "[('238-95-7766', 'Carson', 'Cheryl', 'Algodata Infosystems', 1),\n",
       " ('724-80-9391', 'MacFeather', 'Stearns', 'Binnet & Hardley', 2),\n",
       " ('267-41-2394', \"O'Leary\", 'Michael', 'Algodata Infosystems', 2),\n",
       " ('486-29-1786', 'Locksley', 'Charlene', 'New Moon Books', 1),\n",
       " ('648-92-1872', 'Blotchet-Halls', 'Reginald', 'Binnet & Hardley', 1),\n",
       " ('899-46-2035', 'Ringer', 'Anne', 'New Moon Books', 2),\n",
       " ('998-72-3567', 'Ringer', 'Albert', 'New Moon Books', 1),\n",
       " ('486-29-1786', 'Locksley', 'Charlene', 'Algodata Infosystems', 1),\n",
       " ('807-91-6654', 'Panteley', 'Sylvia', 'Binnet & Hardley', 1),\n",
       " ('172-32-1176', 'White', 'Johnson', 'New Moon Books', 1),\n",
       " ('427-17-2319', 'Dull', 'Ann', 'Algodata Infosystems', 2),\n",
       " ('712-45-1867', 'del Castillo', 'Innes', 'Binnet & Hardley', 1),\n",
       " ('274-80-9391', 'Straight', 'Dean', 'Algodata Infosystems', 1),\n",
       " ('267-41-2394', \"O'Leary\", 'Michael', 'Binnet & Hardley', 3),\n",
       " ('213-46-8915', 'Green', 'Marjorie', 'Algodata Infosystems', 2),\n",
       " ('722-51-5454', 'DeFrance', 'Michel', 'Binnet & Hardley', 2),\n",
       " ('213-46-8915', 'Green', 'Marjorie', 'New Moon Books', 1)]"
      ]
     },
     "execution_count": 82,
     "metadata": {},
     "output_type": "execute_result"
    }
   ],
   "source": [
    "%%sql\n",
    "SELECT au.au_id AS 'AUTHOR ID', au.au_lname AS 'LAST NAME', au.au_fname AS 'FIRST NAME', pubs.pub_name AS 'PUBLISHER', COUNT(*) AS 'TITLE COUNT' \n",
    "FROM authors au\n",
    "JOIN \n",
    "    titleauthor ta ON au.au_id=ta.au_id\n",
    "JOIN\n",
    "    titles tls ON ta.title_id = tls.title_id  \n",
    "JOIN\n",
    "    publishers pubs ON tls.pub_id = pubs.pub_id\n",
    "\n",
    "GROUP BY tls.title\n",
    "\n",
    "    "
   ]
  },
  {
   "cell_type": "markdown",
   "metadata": {},
   "source": [
    "## Challenge 3"
   ]
  },
  {
   "cell_type": "code",
   "execution_count": 88,
   "metadata": {},
   "outputs": [
    {
     "name": "stdout",
     "output_type": "stream",
     "text": [
      " * sqlite://///Users/laurasg/Documents/Ironhack_data/20-lab-sql-select/publications.db\n",
      "Done.\n"
     ]
    },
    {
     "data": {
      "text/html": [
       "<table>\n",
       "    <tr>\n",
       "        <th>AUTHOR ID</th>\n",
       "        <th>LAST NAME</th>\n",
       "        <th>FIRST NAME</th>\n",
       "        <th>TOTAL</th>\n",
       "    </tr>\n",
       "    <tr>\n",
       "        <td>899-46-2035</td>\n",
       "        <td>Ringer</td>\n",
       "        <td>Anne</td>\n",
       "        <td>148</td>\n",
       "    </tr>\n",
       "    <tr>\n",
       "        <td>998-72-3567</td>\n",
       "        <td>Ringer</td>\n",
       "        <td>Albert</td>\n",
       "        <td>133</td>\n",
       "    </tr>\n",
       "    <tr>\n",
       "        <td>213-46-8915</td>\n",
       "        <td>Green</td>\n",
       "        <td>Marjorie</td>\n",
       "        <td>50</td>\n",
       "    </tr>\n",
       "</table>"
      ],
      "text/plain": [
       "[('899-46-2035', 'Ringer', 'Anne', 148),\n",
       " ('998-72-3567', 'Ringer', 'Albert', 133),\n",
       " ('213-46-8915', 'Green', 'Marjorie', 50)]"
      ]
     },
     "execution_count": 88,
     "metadata": {},
     "output_type": "execute_result"
    }
   ],
   "source": [
    "%%sql\n",
    "SELECT au.au_id AS 'AUTHOR ID', au.au_lname AS 'LAST NAME', au.au_fname AS 'FIRST NAME', SUM(sls.qty) AS 'TOTAL' \n",
    "FROM authors au\n",
    "JOIN \n",
    "    titleauthor ta ON au.au_id=ta.au_id\n",
    "JOIN\n",
    "    titles tls ON ta.title_id = tls.title_id  \n",
    "JOIN\n",
    "    sales sls ON tls.title_id = sls.title_id\n",
    "    \n",
    "    \n",
    "GROUP BY au.au_id\n",
    "ORDER BY TOTAL desc\n",
    "Limit 3"
   ]
  },
  {
   "cell_type": "markdown",
   "metadata": {},
   "source": [
    "## Challenge 4"
   ]
  },
  {
   "cell_type": "code",
   "execution_count": 92,
   "metadata": {},
   "outputs": [
    {
     "name": "stdout",
     "output_type": "stream",
     "text": [
      " * sqlite://///Users/laurasg/Documents/Ironhack_data/20-lab-sql-select/publications.db\n",
      "Done.\n"
     ]
    },
    {
     "data": {
      "text/html": [
       "<table>\n",
       "    <tr>\n",
       "        <th>AUTHOR ID</th>\n",
       "        <th>LAST NAME</th>\n",
       "        <th>FIRST NAME</th>\n",
       "        <th>TOTAL</th>\n",
       "    </tr>\n",
       "    <tr>\n",
       "        <td>899-46-2035</td>\n",
       "        <td>Ringer</td>\n",
       "        <td>Anne</td>\n",
       "        <td>148</td>\n",
       "    </tr>\n",
       "    <tr>\n",
       "        <td>998-72-3567</td>\n",
       "        <td>Ringer</td>\n",
       "        <td>Albert</td>\n",
       "        <td>133</td>\n",
       "    </tr>\n",
       "    <tr>\n",
       "        <td>213-46-8915</td>\n",
       "        <td>Green</td>\n",
       "        <td>Marjorie</td>\n",
       "        <td>50</td>\n",
       "    </tr>\n",
       "</table>"
      ],
      "text/plain": [
       "[('899-46-2035', 'Ringer', 'Anne', 148),\n",
       " ('998-72-3567', 'Ringer', 'Albert', 133),\n",
       " ('213-46-8915', 'Green', 'Marjorie', 50)]"
      ]
     },
     "execution_count": 92,
     "metadata": {},
     "output_type": "execute_result"
    }
   ],
   "source": [
    "%%sql\n",
    "SELECT au.au_id AS 'AUTHOR ID', au.au_lname AS 'LAST NAME', au.au_fname AS 'FIRST NAME', SUM(sls.qty) AS 'TOTAL' \n",
    "FROM authors au\n",
    "JOIN \n",
    "    titleauthor ta ON au.au_id=ta.au_id\n",
    "JOIN\n",
    "    titles tls ON ta.title_id = tls.title_id  \n",
    "JOIN\n",
    "    sales sls ON tls.title_id = sls.title_id\n",
    "    \n",
    "    \n",
    "GROUP BY au.au_id\n",
    "ORDER BY TOTAL desc\n",
    "Limit 3"
   ]
  },
  {
   "cell_type": "code",
   "execution_count": 98,
   "metadata": {},
   "outputs": [
    {
     "name": "stdout",
     "output_type": "stream",
     "text": [
      " * sqlite://///Users/laurasg/Documents/Ironhack_data/20-lab-sql-select/publications.db\n",
      "Done.\n"
     ]
    },
    {
     "data": {
      "text/html": [
       "<table>\n",
       "    <tr>\n",
       "        <th>AUTHOR ID</th>\n",
       "        <th>LAST NAME</th>\n",
       "        <th>FIRST NAME</th>\n",
       "        <th>TOTAL</th>\n",
       "    </tr>\n",
       "    <tr>\n",
       "        <td>899-46-2035</td>\n",
       "        <td>Ringer</td>\n",
       "        <td>Anne</td>\n",
       "        <td>148</td>\n",
       "    </tr>\n",
       "    <tr>\n",
       "        <td>998-72-3567</td>\n",
       "        <td>Ringer</td>\n",
       "        <td>Albert</td>\n",
       "        <td>133</td>\n",
       "    </tr>\n",
       "    <tr>\n",
       "        <td>213-46-8915</td>\n",
       "        <td>Green</td>\n",
       "        <td>Marjorie</td>\n",
       "        <td>50</td>\n",
       "    </tr>\n",
       "    <tr>\n",
       "        <td>427-17-2319</td>\n",
       "        <td>Dull</td>\n",
       "        <td>Ann</td>\n",
       "        <td>50</td>\n",
       "    </tr>\n",
       "    <tr>\n",
       "        <td>846-92-7186</td>\n",
       "        <td>Hunter</td>\n",
       "        <td>Sheryl</td>\n",
       "        <td>50</td>\n",
       "    </tr>\n",
       "    <tr>\n",
       "        <td>267-41-2394</td>\n",
       "        <td>O&#x27;Leary</td>\n",
       "        <td>Michael</td>\n",
       "        <td>45</td>\n",
       "    </tr>\n",
       "    <tr>\n",
       "        <td>724-80-9391</td>\n",
       "        <td>MacFeather</td>\n",
       "        <td>Stearns</td>\n",
       "        <td>45</td>\n",
       "    </tr>\n",
       "    <tr>\n",
       "        <td>722-51-5454</td>\n",
       "        <td>DeFrance</td>\n",
       "        <td>Michel</td>\n",
       "        <td>40</td>\n",
       "    </tr>\n",
       "    <tr>\n",
       "        <td>807-91-6654</td>\n",
       "        <td>Panteley</td>\n",
       "        <td>Sylvia</td>\n",
       "        <td>40</td>\n",
       "    </tr>\n",
       "    <tr>\n",
       "        <td>238-95-7766</td>\n",
       "        <td>Carson</td>\n",
       "        <td>Cheryl</td>\n",
       "        <td>30</td>\n",
       "    </tr>\n",
       "    <tr>\n",
       "        <td>486-29-1786</td>\n",
       "        <td>Locksley</td>\n",
       "        <td>Charlene</td>\n",
       "        <td>25</td>\n",
       "    </tr>\n",
       "    <tr>\n",
       "        <td>472-27-2349</td>\n",
       "        <td>Gringlesby</td>\n",
       "        <td>Burt</td>\n",
       "        <td>20</td>\n",
       "    </tr>\n",
       "    <tr>\n",
       "        <td>648-92-1872</td>\n",
       "        <td>Blotchet-Halls</td>\n",
       "        <td>Reginald</td>\n",
       "        <td>20</td>\n",
       "    </tr>\n",
       "    <tr>\n",
       "        <td>672-71-3249</td>\n",
       "        <td>Yokomoto</td>\n",
       "        <td>Akiko</td>\n",
       "        <td>20</td>\n",
       "    </tr>\n",
       "    <tr>\n",
       "        <td>756-30-7391</td>\n",
       "        <td>Karsen</td>\n",
       "        <td>Livia</td>\n",
       "        <td>20</td>\n",
       "    </tr>\n",
       "    <tr>\n",
       "        <td>172-32-1176</td>\n",
       "        <td>White</td>\n",
       "        <td>Johnson</td>\n",
       "        <td>15</td>\n",
       "    </tr>\n",
       "    <tr>\n",
       "        <td>274-80-9391</td>\n",
       "        <td>Straight</td>\n",
       "        <td>Dean</td>\n",
       "        <td>15</td>\n",
       "    </tr>\n",
       "    <tr>\n",
       "        <td>409-56-7008</td>\n",
       "        <td>Bennet</td>\n",
       "        <td>Abraham</td>\n",
       "        <td>15</td>\n",
       "    </tr>\n",
       "    <tr>\n",
       "        <td>712-45-1867</td>\n",
       "        <td>del Castillo</td>\n",
       "        <td>Innes</td>\n",
       "        <td>10</td>\n",
       "    </tr>\n",
       "    <tr>\n",
       "        <td>341-22-1782</td>\n",
       "        <td>Smith</td>\n",
       "        <td>Meander</td>\n",
       "        <td>0</td>\n",
       "    </tr>\n",
       "    <tr>\n",
       "        <td>527-72-3246</td>\n",
       "        <td>Greene</td>\n",
       "        <td>Morningstar</td>\n",
       "        <td>0</td>\n",
       "    </tr>\n",
       "    <tr>\n",
       "        <td>724-08-9931</td>\n",
       "        <td>Stringer</td>\n",
       "        <td>Dirk</td>\n",
       "        <td>0</td>\n",
       "    </tr>\n",
       "    <tr>\n",
       "        <td>893-72-1158</td>\n",
       "        <td>McBadden</td>\n",
       "        <td>Heather</td>\n",
       "        <td>0</td>\n",
       "    </tr>\n",
       "</table>"
      ],
      "text/plain": [
       "[('899-46-2035', 'Ringer', 'Anne', 148),\n",
       " ('998-72-3567', 'Ringer', 'Albert', 133),\n",
       " ('213-46-8915', 'Green', 'Marjorie', 50),\n",
       " ('427-17-2319', 'Dull', 'Ann', 50),\n",
       " ('846-92-7186', 'Hunter', 'Sheryl', 50),\n",
       " ('267-41-2394', \"O'Leary\", 'Michael', 45),\n",
       " ('724-80-9391', 'MacFeather', 'Stearns', 45),\n",
       " ('722-51-5454', 'DeFrance', 'Michel', 40),\n",
       " ('807-91-6654', 'Panteley', 'Sylvia', 40),\n",
       " ('238-95-7766', 'Carson', 'Cheryl', 30),\n",
       " ('486-29-1786', 'Locksley', 'Charlene', 25),\n",
       " ('472-27-2349', 'Gringlesby', 'Burt', 20),\n",
       " ('648-92-1872', 'Blotchet-Halls', 'Reginald', 20),\n",
       " ('672-71-3249', 'Yokomoto', 'Akiko', 20),\n",
       " ('756-30-7391', 'Karsen', 'Livia', 20),\n",
       " ('172-32-1176', 'White', 'Johnson', 15),\n",
       " ('274-80-9391', 'Straight', 'Dean', 15),\n",
       " ('409-56-7008', 'Bennet', 'Abraham', 15),\n",
       " ('712-45-1867', 'del Castillo', 'Innes', 10),\n",
       " ('341-22-1782', 'Smith', 'Meander', 0),\n",
       " ('527-72-3246', 'Greene', 'Morningstar', 0),\n",
       " ('724-08-9931', 'Stringer', 'Dirk', 0),\n",
       " ('893-72-1158', 'McBadden', 'Heather', 0)]"
      ]
     },
     "execution_count": 98,
     "metadata": {},
     "output_type": "execute_result"
    }
   ],
   "source": [
    "%%sql\n",
    "SELECT au.au_id AS 'AUTHOR ID', au.au_lname AS 'LAST NAME', au.au_fname AS 'FIRST NAME', IFNULL(SUM(sls.qty), 0) AS 'TOTAL'\n",
    "FROM authors au\n",
    "LEFT JOIN \n",
    "    titleauthor ta ON au.au_id=ta.au_id\n",
    "LEFT JOIN\n",
    "    titles tls ON ta.title_id = tls.title_id  \n",
    "LEFT JOIN\n",
    "    sales sls ON tls.title_id = sls.title_id\n",
    "    \n",
    "    \n",
    "GROUP BY au.au_id\n",
    "ORDER BY TOTAL desc\n"
   ]
  },
  {
   "cell_type": "code",
   "execution_count": null,
   "metadata": {},
   "outputs": [],
   "source": []
  }
 ],
 "metadata": {
  "kernelspec": {
   "display_name": "Python 3",
   "language": "python",
   "name": "python3"
  },
  "language_info": {
   "codemirror_mode": {
    "name": "ipython",
    "version": 3
   },
   "file_extension": ".py",
   "mimetype": "text/x-python",
   "name": "python",
   "nbconvert_exporter": "python",
   "pygments_lexer": "ipython3",
   "version": "3.8.3"
  }
 },
 "nbformat": 4,
 "nbformat_minor": 4
}
