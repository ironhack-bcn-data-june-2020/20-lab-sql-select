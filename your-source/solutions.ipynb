{
 "cells": [
  {
   "cell_type": "markdown",
   "metadata": {},
   "source": [
    "# 20-Lab SQL select"
   ]
  },
  {
   "cell_type": "markdown",
   "metadata": {},
   "source": [
    "## Load extension"
   ]
  },
  {
   "cell_type": "code",
   "execution_count": 1,
   "metadata": {
    "ExecuteTime": {
     "end_time": "2020-08-20T18:46:03.631650Z",
     "start_time": "2020-08-20T18:46:02.950394Z"
    }
   },
   "outputs": [],
   "source": [
    "%load_ext sql"
   ]
  },
  {
   "cell_type": "markdown",
   "metadata": {},
   "source": [
    "## Connect to the data base"
   ]
  },
  {
   "cell_type": "code",
   "execution_count": 2,
   "metadata": {
    "ExecuteTime": {
     "end_time": "2020-08-20T18:46:39.188938Z",
     "start_time": "2020-08-20T18:46:39.144870Z"
    }
   },
   "outputs": [],
   "source": [
    "%sql sqlite:///publications.db"
   ]
  },
  {
   "cell_type": "markdown",
   "metadata": {},
   "source": [
    "## Get the list of tables"
   ]
  },
  {
   "cell_type": "code",
   "execution_count": 3,
   "metadata": {
    "ExecuteTime": {
     "end_time": "2020-08-20T18:47:05.181990Z",
     "start_time": "2020-08-20T18:47:05.138611Z"
    }
   },
   "outputs": [
    {
     "name": "stdout",
     "output_type": "stream",
     "text": [
      " * sqlite:///publications.db\n",
      "Done.\n"
     ]
    },
    {
     "data": {
      "text/html": [
       "<table>\n",
       "    <tr>\n",
       "        <th>type</th>\n",
       "        <th>name</th>\n",
       "        <th>tbl_name</th>\n",
       "        <th>rootpage</th>\n",
       "        <th>sql</th>\n",
       "    </tr>\n",
       "    <tr>\n",
       "        <td>table</td>\n",
       "        <td>authors</td>\n",
       "        <td>authors</td>\n",
       "        <td>2</td>\n",
       "        <td>CREATE TABLE `authors` (<br>  `au_id` varchar(11) NOT NULL<br>,  `au_lname` varchar(40) NOT NULL<br>,  `au_fname` varchar(20) NOT NULL<br>,  `phone` char(12) NOT NULL<br>,  `address` varchar(40) DEFAULT NULL<br>,  `city` varchar(20) DEFAULT NULL<br>,  `state` char(2) DEFAULT NULL<br>,  `zip` char(5) DEFAULT NULL<br>,  `contract` integer NOT NULL<br>,  PRIMARY KEY (`au_id`)<br>)</td>\n",
       "    </tr>\n",
       "    <tr>\n",
       "        <td>table</td>\n",
       "        <td>discounts</td>\n",
       "        <td>discounts</td>\n",
       "        <td>4</td>\n",
       "        <td>CREATE TABLE `discounts` (<br>  `discounttype` varchar(40) NOT NULL<br>,  `stor_id` char(4) DEFAULT NULL<br>,  `lowqty` integer DEFAULT NULL<br>,  `highqty` integer DEFAULT NULL<br>,  `discount` decimal(4,2) NOT NULL<br>,  CONSTRAINT `discounts_ibfk_1` FOREIGN KEY (`stor_id`) REFERENCES `stores` (`stor_id`) ON DELETE CASCADE ON UPDATE CASCADE<br>)</td>\n",
       "    </tr>\n",
       "    <tr>\n",
       "        <td>table</td>\n",
       "        <td>employee</td>\n",
       "        <td>employee</td>\n",
       "        <td>5</td>\n",
       "        <td>CREATE TABLE `employee` (<br>  `emp_id` char(9) NOT NULL<br>,  `fname` varchar(20) NOT NULL<br>,  `minit` char(1) DEFAULT NULL<br>,  `lname` varchar(30) NOT NULL<br>,  `job_id` integer NOT NULL<br>,  `job_lvl` integer DEFAULT NULL<br>,  `pub_id` char(4) NOT NULL<br>,  `hire_date` datetime NOT NULL<br>,  PRIMARY KEY (`emp_id`)<br>,  CONSTRAINT `employee_ibfk_1` FOREIGN KEY (`job_id`) REFERENCES `jobs` (`job_id`) ON DELETE CASCADE ON UPDATE CASCADE<br>,  CONSTRAINT `employee_ibfk_2` FOREIGN KEY (`pub_id`) REFERENCES `publishers` (`pub_id`) ON DELETE CASCADE ON UPDATE CASCADE<br>)</td>\n",
       "    </tr>\n",
       "    <tr>\n",
       "        <td>table</td>\n",
       "        <td>jobs</td>\n",
       "        <td>jobs</td>\n",
       "        <td>7</td>\n",
       "        <td>CREATE TABLE `jobs` (<br>  `job_id` integer NOT NULL<br>,  `job_desc` varchar(50) NOT NULL<br>,  `min_lvl` integer NOT NULL<br>,  `max_lvl` integer NOT NULL<br>,  PRIMARY KEY (`job_id`)<br>)</td>\n",
       "    </tr>\n",
       "    <tr>\n",
       "        <td>table</td>\n",
       "        <td>pub_info</td>\n",
       "        <td>pub_info</td>\n",
       "        <td>8</td>\n",
       "        <td>CREATE TABLE `pub_info` (<br>  `pub_id` char(4) NOT NULL<br>,  `logo` longblob DEFAULT NULL<br>,  `pr_info` longtext DEFAULT NULL<br>,  PRIMARY KEY (`pub_id`)<br>,  CONSTRAINT `pub_info_ibfk_1` FOREIGN KEY (`pub_id`) REFERENCES `publishers` (`pub_id`) ON DELETE CASCADE ON UPDATE CASCADE<br>)</td>\n",
       "    </tr>\n",
       "    <tr>\n",
       "        <td>table</td>\n",
       "        <td>publishers</td>\n",
       "        <td>publishers</td>\n",
       "        <td>34</td>\n",
       "        <td>CREATE TABLE `publishers` (<br>  `pub_id` char(4) NOT NULL<br>,  `pub_name` varchar(40) DEFAULT NULL<br>,  `city` varchar(20) DEFAULT NULL<br>,  `state` char(2) DEFAULT NULL<br>,  `country` varchar(30) DEFAULT NULL<br>,  PRIMARY KEY (`pub_id`)<br>)</td>\n",
       "    </tr>\n",
       "    <tr>\n",
       "        <td>table</td>\n",
       "        <td>roysched</td>\n",
       "        <td>roysched</td>\n",
       "        <td>36</td>\n",
       "        <td>CREATE TABLE `roysched` (<br>  `title_id` varchar(6) NOT NULL<br>,  `lorange` integer DEFAULT NULL<br>,  `hirange` integer DEFAULT NULL<br>,  `royalty` integer DEFAULT NULL<br>,  CONSTRAINT `roysched_ibfk_1` FOREIGN KEY (`title_id`) REFERENCES `titles` (`title_id`) ON DELETE CASCADE ON UPDATE CASCADE<br>)</td>\n",
       "    </tr>\n",
       "    <tr>\n",
       "        <td>table</td>\n",
       "        <td>sales</td>\n",
       "        <td>sales</td>\n",
       "        <td>37</td>\n",
       "        <td>CREATE TABLE `sales` (<br>  `stor_id` char(4) NOT NULL<br>,  `ord_num` varchar(20) NOT NULL<br>,  `ord_date` datetime NOT NULL<br>,  `qty` integer NOT NULL<br>,  `payterms` varchar(12) NOT NULL<br>,  `title_id` varchar(6) NOT NULL<br>,  PRIMARY KEY (`stor_id`,`ord_num`,`title_id`)<br>,  CONSTRAINT `sales_ibfk_1` FOREIGN KEY (`stor_id`) REFERENCES `stores` (`stor_id`) ON DELETE CASCADE ON UPDATE CASCADE<br>,  CONSTRAINT `sales_ibfk_2` FOREIGN KEY (`title_id`) REFERENCES `titles` (`title_id`) ON DELETE CASCADE ON UPDATE CASCADE<br>)</td>\n",
       "    </tr>\n",
       "    <tr>\n",
       "        <td>table</td>\n",
       "        <td>stores</td>\n",
       "        <td>stores</td>\n",
       "        <td>39</td>\n",
       "        <td>CREATE TABLE `stores` (<br>  `stor_id` char(4) NOT NULL<br>,  `stor_name` varchar(40) DEFAULT NULL<br>,  `stor_address` varchar(40) DEFAULT NULL<br>,  `city` varchar(20) DEFAULT NULL<br>,  `state` char(2) DEFAULT NULL<br>,  `zip` char(5) DEFAULT NULL<br>,  PRIMARY KEY (`stor_id`)<br>)</td>\n",
       "    </tr>\n",
       "    <tr>\n",
       "        <td>table</td>\n",
       "        <td>titleauthor</td>\n",
       "        <td>titleauthor</td>\n",
       "        <td>41</td>\n",
       "        <td>CREATE TABLE `titleauthor` (<br>  `au_id` varchar(11) NOT NULL<br>,  `title_id` varchar(6) NOT NULL<br>,  `au_ord` integer DEFAULT NULL<br>,  `royaltyper` integer DEFAULT NULL<br>,  PRIMARY KEY (`au_id`,`title_id`)<br>,  CONSTRAINT `titleauthor_ibfk_1` FOREIGN KEY (`title_id`) REFERENCES `titles` (`title_id`) ON DELETE CASCADE ON UPDATE CASCADE<br>,  CONSTRAINT `titleauthor_ibfk_2` FOREIGN KEY (`au_id`) REFERENCES `authors` (`au_id`) ON DELETE CASCADE ON UPDATE CASCADE<br>)</td>\n",
       "    </tr>\n",
       "    <tr>\n",
       "        <td>table</td>\n",
       "        <td>titles</td>\n",
       "        <td>titles</td>\n",
       "        <td>45</td>\n",
       "        <td>CREATE TABLE `titles` (<br>  `title_id` varchar(6) NOT NULL<br>,  `title` varchar(80) NOT NULL<br>,  `type` char(12) NOT NULL<br>,  `pub_id` char(4) DEFAULT NULL<br>,  `price` decimal(19,4) DEFAULT NULL<br>,  `advance` decimal(19,4) DEFAULT NULL<br>,  `royalty` integer DEFAULT NULL<br>,  `ytd_sales` integer DEFAULT NULL<br>,  `notes` varchar(200) DEFAULT NULL<br>,  `pubdate` datetime NOT NULL<br>,  PRIMARY KEY (`title_id`)<br>,  CONSTRAINT `titles_ibfk_1` FOREIGN KEY (`pub_id`) REFERENCES `publishers` (`pub_id`) ON DELETE CASCADE ON UPDATE CASCADE<br>)</td>\n",
       "    </tr>\n",
       "</table>"
      ],
      "text/plain": [
       "[('table', 'authors', 'authors', 2, 'CREATE TABLE `authors` (\\n  `au_id` varchar(11) NOT NULL\\n,  `au_lname` varchar(40) NOT NULL\\n,  `au_fname` varchar(20) NOT NULL\\n,  `phone` char(12) ... (60 characters truncated) ... varchar(20) DEFAULT NULL\\n,  `state` char(2) DEFAULT NULL\\n,  `zip` char(5) DEFAULT NULL\\n,  `contract` integer NOT NULL\\n,  PRIMARY KEY (`au_id`)\\n)'),\n",
       " ('table', 'discounts', 'discounts', 4, 'CREATE TABLE `discounts` (\\n  `discounttype` varchar(40) NOT NULL\\n,  `stor_id` char(4) DEFAULT NULL\\n,  `lowqty` integer DEFAULT NULL\\n,  `highqty`  ... (37 characters truncated) ... ecimal(4,2) NOT NULL\\n,  CONSTRAINT `discounts_ibfk_1` FOREIGN KEY (`stor_id`) REFERENCES `stores` (`stor_id`) ON DELETE CASCADE ON UPDATE CASCADE\\n)'),\n",
       " ('table', 'employee', 'employee', 5, 'CREATE TABLE `employee` (\\n  `emp_id` char(9) NOT NULL\\n,  `fname` varchar(20) NOT NULL\\n,  `minit` char(1) DEFAULT NULL\\n,  `lname` varchar(30) NOT  ... (262 characters truncated) ... E ON UPDATE CASCADE\\n,  CONSTRAINT `employee_ibfk_2` FOREIGN KEY (`pub_id`) REFERENCES `publishers` (`pub_id`) ON DELETE CASCADE ON UPDATE CASCADE\\n)'),\n",
       " ('table', 'jobs', 'jobs', 7, 'CREATE TABLE `jobs` (\\n  `job_id` integer NOT NULL\\n,  `job_desc` varchar(50) NOT NULL\\n,  `min_lvl` integer NOT NULL\\n,  `max_lvl` integer NOT NULL\\n,  PRIMARY KEY (`job_id`)\\n)'),\n",
       " ('table', 'pub_info', 'pub_info', 8, 'CREATE TABLE `pub_info` (\\n  `pub_id` char(4) NOT NULL\\n,  `logo` longblob DEFAULT NULL\\n,  `pr_info` longtext DEFAULT NULL\\n,  PRIMARY KEY (`pub_id`)\\n,  CONSTRAINT `pub_info_ibfk_1` FOREIGN KEY (`pub_id`) REFERENCES `publishers` (`pub_id`) ON DELETE CASCADE ON UPDATE CASCADE\\n)'),\n",
       " ('table', 'publishers', 'publishers', 34, 'CREATE TABLE `publishers` (\\n  `pub_id` char(4) NOT NULL\\n,  `pub_name` varchar(40) DEFAULT NULL\\n,  `city` varchar(20) DEFAULT NULL\\n,  `state` char(2) DEFAULT NULL\\n,  `country` varchar(30) DEFAULT NULL\\n,  PRIMARY KEY (`pub_id`)\\n)'),\n",
       " ('table', 'roysched', 'roysched', 36, 'CREATE TABLE `roysched` (\\n  `title_id` varchar(6) NOT NULL\\n,  `lorange` integer DEFAULT NULL\\n,  `hirange` integer DEFAULT NULL\\n,  `royalty` integer DEFAULT NULL\\n,  CONSTRAINT `roysched_ibfk_1` FOREIGN KEY (`title_id`) REFERENCES `titles` (`title_id`) ON DELETE CASCADE ON UPDATE CASCADE\\n)'),\n",
       " ('table', 'sales', 'sales', 37, 'CREATE TABLE `sales` (\\n  `stor_id` char(4) NOT NULL\\n,  `ord_num` varchar(20) NOT NULL\\n,  `ord_date` datetime NOT NULL\\n,  `qty` integer NOT NULL\\n ... (218 characters truncated) ... CADE ON UPDATE CASCADE\\n,  CONSTRAINT `sales_ibfk_2` FOREIGN KEY (`title_id`) REFERENCES `titles` (`title_id`) ON DELETE CASCADE ON UPDATE CASCADE\\n)'),\n",
       " ('table', 'stores', 'stores', 39, 'CREATE TABLE `stores` (\\n  `stor_id` char(4) NOT NULL\\n,  `stor_name` varchar(40) DEFAULT NULL\\n,  `stor_address` varchar(40) DEFAULT NULL\\n,  `city` varchar(20) DEFAULT NULL\\n,  `state` char(2) DEFAULT NULL\\n,  `zip` char(5) DEFAULT NULL\\n,  PRIMARY KEY (`stor_id`)\\n)'),\n",
       " ('table', 'titleauthor', 'titleauthor', 41, 'CREATE TABLE `titleauthor` (\\n  `au_id` varchar(11) NOT NULL\\n,  `title_id` varchar(6) NOT NULL\\n,  `au_ord` integer DEFAULT NULL\\n,  `royaltyper` in ... (164 characters truncated) ... ADE ON UPDATE CASCADE\\n,  CONSTRAINT `titleauthor_ibfk_2` FOREIGN KEY (`au_id`) REFERENCES `authors` (`au_id`) ON DELETE CASCADE ON UPDATE CASCADE\\n)'),\n",
       " ('table', 'titles', 'titles', 45, 'CREATE TABLE `titles` (\\n  `title_id` varchar(6) NOT NULL\\n,  `title` varchar(80) NOT NULL\\n,  `type` char(12) NOT NULL\\n,  `pub_id` char(4) DEFAULT  ... (234 characters truncated) ... MARY KEY (`title_id`)\\n,  CONSTRAINT `titles_ibfk_1` FOREIGN KEY (`pub_id`) REFERENCES `publishers` (`pub_id`) ON DELETE CASCADE ON UPDATE CASCADE\\n)')]"
      ]
     },
     "execution_count": 3,
     "metadata": {},
     "output_type": "execute_result"
    }
   ],
   "source": [
    "%%sql\n",
    "SELECT *\n",
    "FROM sqlite_master\n",
    "WHERE type='table'\n",
    "ORDER BY name;"
   ]
  },
  {
   "cell_type": "markdown",
   "metadata": {},
   "source": [
    "# Challenge 1 - Who Have Published What At Where?"
   ]
  },
  {
   "cell_type": "code",
   "execution_count": 4,
   "metadata": {
    "ExecuteTime": {
     "end_time": "2020-08-20T18:55:37.269812Z",
     "start_time": "2020-08-20T18:55:37.246571Z"
    }
   },
   "outputs": [
    {
     "name": "stdout",
     "output_type": "stream",
     "text": [
      " * sqlite:///publications.db\n",
      "Done.\n"
     ]
    },
    {
     "data": {
      "text/html": [
       "<table>\n",
       "    <tr>\n",
       "        <th>count(*)</th>\n",
       "    </tr>\n",
       "    <tr>\n",
       "        <td>25</td>\n",
       "    </tr>\n",
       "</table>"
      ],
      "text/plain": [
       "[(25,)]"
      ]
     },
     "execution_count": 4,
     "metadata": {},
     "output_type": "execute_result"
    }
   ],
   "source": [
    "%%sql\n",
    "select count(*) \n",
    "from titleauthor;"
   ]
  },
  {
   "cell_type": "code",
   "execution_count": 10,
   "metadata": {
    "ExecuteTime": {
     "end_time": "2020-08-20T18:55:26.789896Z",
     "start_time": "2020-08-20T18:55:26.762512Z"
    }
   },
   "outputs": [
    {
     "name": "stdout",
     "output_type": "stream",
     "text": [
      " * sqlite:///publications.db\n",
      "Done.\n"
     ]
    },
    {
     "data": {
      "text/html": [
       "<table>\n",
       "    <tr>\n",
       "        <th>AUTHOR ID</th>\n",
       "        <th>LAST NAME</th>\n",
       "        <th>FIRST NAME</th>\n",
       "        <th>TITLE</th>\n",
       "        <th>PUBLISHER</th>\n",
       "    </tr>\n",
       "    <tr>\n",
       "        <td>172-32-1176</td>\n",
       "        <td>White</td>\n",
       "        <td>Johnson</td>\n",
       "        <td>Prolonged Data Deprivation: Four Case Studies</td>\n",
       "        <td>New Moon Books</td>\n",
       "    </tr>\n",
       "    <tr>\n",
       "        <td>213-46-8915</td>\n",
       "        <td>Green</td>\n",
       "        <td>Marjorie</td>\n",
       "        <td>The Busy Executive&#x27;s Database Guide</td>\n",
       "        <td>Algodata Infosystems</td>\n",
       "    </tr>\n",
       "    <tr>\n",
       "        <td>213-46-8915</td>\n",
       "        <td>Green</td>\n",
       "        <td>Marjorie</td>\n",
       "        <td>You Can Combat Computer Stress!</td>\n",
       "        <td>New Moon Books</td>\n",
       "    </tr>\n",
       "    <tr>\n",
       "        <td>238-95-7766</td>\n",
       "        <td>Carson</td>\n",
       "        <td>Cheryl</td>\n",
       "        <td>But Is It User Friendly?</td>\n",
       "        <td>Algodata Infosystems</td>\n",
       "    </tr>\n",
       "    <tr>\n",
       "        <td>267-41-2394</td>\n",
       "        <td>O&#x27;Leary</td>\n",
       "        <td>Michael</td>\n",
       "        <td>Cooking with Computers: Surreptitious Balance Sheets</td>\n",
       "        <td>Algodata Infosystems</td>\n",
       "    </tr>\n",
       "    <tr>\n",
       "        <td>267-41-2394</td>\n",
       "        <td>O&#x27;Leary</td>\n",
       "        <td>Michael</td>\n",
       "        <td>Sushi, Anyone?</td>\n",
       "        <td>Binnet &amp; Hardley</td>\n",
       "    </tr>\n",
       "    <tr>\n",
       "        <td>274-80-9391</td>\n",
       "        <td>Straight</td>\n",
       "        <td>Dean</td>\n",
       "        <td>Straight Talk About Computers</td>\n",
       "        <td>Algodata Infosystems</td>\n",
       "    </tr>\n",
       "    <tr>\n",
       "        <td>409-56-7008</td>\n",
       "        <td>Bennet</td>\n",
       "        <td>Abraham</td>\n",
       "        <td>The Busy Executive&#x27;s Database Guide</td>\n",
       "        <td>Algodata Infosystems</td>\n",
       "    </tr>\n",
       "    <tr>\n",
       "        <td>427-17-2319</td>\n",
       "        <td>Dull</td>\n",
       "        <td>Ann</td>\n",
       "        <td>Secrets of Silicon Valley</td>\n",
       "        <td>Algodata Infosystems</td>\n",
       "    </tr>\n",
       "    <tr>\n",
       "        <td>472-27-2349</td>\n",
       "        <td>Gringlesby</td>\n",
       "        <td>Burt</td>\n",
       "        <td>Sushi, Anyone?</td>\n",
       "        <td>Binnet &amp; Hardley</td>\n",
       "    </tr>\n",
       "    <tr>\n",
       "        <td>486-29-1786</td>\n",
       "        <td>Locksley</td>\n",
       "        <td>Charlene</td>\n",
       "        <td>Net Etiquette</td>\n",
       "        <td>Algodata Infosystems</td>\n",
       "    </tr>\n",
       "    <tr>\n",
       "        <td>486-29-1786</td>\n",
       "        <td>Locksley</td>\n",
       "        <td>Charlene</td>\n",
       "        <td>Emotional Security: A New Algorithm</td>\n",
       "        <td>New Moon Books</td>\n",
       "    </tr>\n",
       "    <tr>\n",
       "        <td>648-92-1872</td>\n",
       "        <td>Blotchet-Halls</td>\n",
       "        <td>Reginald</td>\n",
       "        <td>Fifty Years in Buckingham Palace Kitchens</td>\n",
       "        <td>Binnet &amp; Hardley</td>\n",
       "    </tr>\n",
       "    <tr>\n",
       "        <td>672-71-3249</td>\n",
       "        <td>Yokomoto</td>\n",
       "        <td>Akiko</td>\n",
       "        <td>Sushi, Anyone?</td>\n",
       "        <td>Binnet &amp; Hardley</td>\n",
       "    </tr>\n",
       "    <tr>\n",
       "        <td>712-45-1867</td>\n",
       "        <td>del Castillo</td>\n",
       "        <td>Innes</td>\n",
       "        <td>Silicon Valley Gastronomic Treats</td>\n",
       "        <td>Binnet &amp; Hardley</td>\n",
       "    </tr>\n",
       "    <tr>\n",
       "        <td>722-51-5454</td>\n",
       "        <td>DeFrance</td>\n",
       "        <td>Michel</td>\n",
       "        <td>The Gourmet Microwave</td>\n",
       "        <td>Binnet &amp; Hardley</td>\n",
       "    </tr>\n",
       "    <tr>\n",
       "        <td>724-80-9391</td>\n",
       "        <td>MacFeather</td>\n",
       "        <td>Stearns</td>\n",
       "        <td>Cooking with Computers: Surreptitious Balance Sheets</td>\n",
       "        <td>Algodata Infosystems</td>\n",
       "    </tr>\n",
       "    <tr>\n",
       "        <td>724-80-9391</td>\n",
       "        <td>MacFeather</td>\n",
       "        <td>Stearns</td>\n",
       "        <td>Computer Phobic AND Non-Phobic Individuals: Behavior Variations</td>\n",
       "        <td>Binnet &amp; Hardley</td>\n",
       "    </tr>\n",
       "    <tr>\n",
       "        <td>756-30-7391</td>\n",
       "        <td>Karsen</td>\n",
       "        <td>Livia</td>\n",
       "        <td>Computer Phobic AND Non-Phobic Individuals: Behavior Variations</td>\n",
       "        <td>Binnet &amp; Hardley</td>\n",
       "    </tr>\n",
       "    <tr>\n",
       "        <td>807-91-6654</td>\n",
       "        <td>Panteley</td>\n",
       "        <td>Sylvia</td>\n",
       "        <td>Onions, Leeks, and Garlic: Cooking Secrets of the Mediterranean</td>\n",
       "        <td>Binnet &amp; Hardley</td>\n",
       "    </tr>\n",
       "    <tr>\n",
       "        <td>846-92-7186</td>\n",
       "        <td>Hunter</td>\n",
       "        <td>Sheryl</td>\n",
       "        <td>Secrets of Silicon Valley</td>\n",
       "        <td>Algodata Infosystems</td>\n",
       "    </tr>\n",
       "    <tr>\n",
       "        <td>899-46-2035</td>\n",
       "        <td>Ringer</td>\n",
       "        <td>Anne</td>\n",
       "        <td>The Gourmet Microwave</td>\n",
       "        <td>Binnet &amp; Hardley</td>\n",
       "    </tr>\n",
       "    <tr>\n",
       "        <td>899-46-2035</td>\n",
       "        <td>Ringer</td>\n",
       "        <td>Anne</td>\n",
       "        <td>Is Anger the Enemy?</td>\n",
       "        <td>New Moon Books</td>\n",
       "    </tr>\n",
       "    <tr>\n",
       "        <td>998-72-3567</td>\n",
       "        <td>Ringer</td>\n",
       "        <td>Albert</td>\n",
       "        <td>Is Anger the Enemy?</td>\n",
       "        <td>New Moon Books</td>\n",
       "    </tr>\n",
       "    <tr>\n",
       "        <td>998-72-3567</td>\n",
       "        <td>Ringer</td>\n",
       "        <td>Albert</td>\n",
       "        <td>Life Without Fear</td>\n",
       "        <td>New Moon Books</td>\n",
       "    </tr>\n",
       "</table>"
      ],
      "text/plain": [
       "[('172-32-1176', 'White', 'Johnson', 'Prolonged Data Deprivation: Four Case Studies', 'New Moon Books'),\n",
       " ('213-46-8915', 'Green', 'Marjorie', \"The Busy Executive's Database Guide\", 'Algodata Infosystems'),\n",
       " ('213-46-8915', 'Green', 'Marjorie', 'You Can Combat Computer Stress!', 'New Moon Books'),\n",
       " ('238-95-7766', 'Carson', 'Cheryl', 'But Is It User Friendly?', 'Algodata Infosystems'),\n",
       " ('267-41-2394', \"O'Leary\", 'Michael', 'Cooking with Computers: Surreptitious Balance Sheets', 'Algodata Infosystems'),\n",
       " ('267-41-2394', \"O'Leary\", 'Michael', 'Sushi, Anyone?', 'Binnet & Hardley'),\n",
       " ('274-80-9391', 'Straight', 'Dean', 'Straight Talk About Computers', 'Algodata Infosystems'),\n",
       " ('409-56-7008', 'Bennet', 'Abraham', \"The Busy Executive's Database Guide\", 'Algodata Infosystems'),\n",
       " ('427-17-2319', 'Dull', 'Ann', 'Secrets of Silicon Valley', 'Algodata Infosystems'),\n",
       " ('472-27-2349', 'Gringlesby', 'Burt', 'Sushi, Anyone?', 'Binnet & Hardley'),\n",
       " ('486-29-1786', 'Locksley', 'Charlene', 'Net Etiquette', 'Algodata Infosystems'),\n",
       " ('486-29-1786', 'Locksley', 'Charlene', 'Emotional Security: A New Algorithm', 'New Moon Books'),\n",
       " ('648-92-1872', 'Blotchet-Halls', 'Reginald', 'Fifty Years in Buckingham Palace Kitchens', 'Binnet & Hardley'),\n",
       " ('672-71-3249', 'Yokomoto', 'Akiko', 'Sushi, Anyone?', 'Binnet & Hardley'),\n",
       " ('712-45-1867', 'del Castillo', 'Innes', 'Silicon Valley Gastronomic Treats', 'Binnet & Hardley'),\n",
       " ('722-51-5454', 'DeFrance', 'Michel', 'The Gourmet Microwave', 'Binnet & Hardley'),\n",
       " ('724-80-9391', 'MacFeather', 'Stearns', 'Cooking with Computers: Surreptitious Balance Sheets', 'Algodata Infosystems'),\n",
       " ('724-80-9391', 'MacFeather', 'Stearns', 'Computer Phobic AND Non-Phobic Individuals: Behavior Variations', 'Binnet & Hardley'),\n",
       " ('756-30-7391', 'Karsen', 'Livia', 'Computer Phobic AND Non-Phobic Individuals: Behavior Variations', 'Binnet & Hardley'),\n",
       " ('807-91-6654', 'Panteley', 'Sylvia', 'Onions, Leeks, and Garlic: Cooking Secrets of the Mediterranean', 'Binnet & Hardley'),\n",
       " ('846-92-7186', 'Hunter', 'Sheryl', 'Secrets of Silicon Valley', 'Algodata Infosystems'),\n",
       " ('899-46-2035', 'Ringer', 'Anne', 'The Gourmet Microwave', 'Binnet & Hardley'),\n",
       " ('899-46-2035', 'Ringer', 'Anne', 'Is Anger the Enemy?', 'New Moon Books'),\n",
       " ('998-72-3567', 'Ringer', 'Albert', 'Is Anger the Enemy?', 'New Moon Books'),\n",
       " ('998-72-3567', 'Ringer', 'Albert', 'Life Without Fear', 'New Moon Books')]"
      ]
     },
     "execution_count": 10,
     "metadata": {},
     "output_type": "execute_result"
    }
   ],
   "source": [
    "%%sql\n",
    "select  a.au_id as 'AUTHOR ID', \n",
    "        a.au_lname as 'LAST NAME', \n",
    "        a.au_fname as 'FIRST NAME', \n",
    "        t.title as TITLE, \n",
    "        p.pub_name as PUBLISHER\n",
    "from authors a join titleauthor ta on a.au_id = ta.au_id\n",
    "               join titles t on t.title_id = ta.title_id\n",
    "               join publishers p on p.pub_id = t.pub_id\n"
   ]
  },
  {
   "cell_type": "markdown",
   "metadata": {},
   "source": [
    "# Challenge 2 - Who Have Published How Many At Where?"
   ]
  },
  {
   "cell_type": "code",
   "execution_count": 14,
   "metadata": {
    "ExecuteTime": {
     "end_time": "2020-08-20T18:59:23.688063Z",
     "start_time": "2020-08-20T18:59:23.658519Z"
    }
   },
   "outputs": [
    {
     "name": "stdout",
     "output_type": "stream",
     "text": [
      " * sqlite:///publications.db\n",
      "Done.\n"
     ]
    },
    {
     "data": {
      "text/html": [
       "<table>\n",
       "    <tr>\n",
       "        <th>AUTHOR ID</th>\n",
       "        <th>LAST NAME</th>\n",
       "        <th>FIRST NAME</th>\n",
       "        <th>PUBLISHER</th>\n",
       "        <th>TITLE COUNT</th>\n",
       "    </tr>\n",
       "    <tr>\n",
       "        <td>998-72-3567</td>\n",
       "        <td>Ringer</td>\n",
       "        <td>Albert</td>\n",
       "        <td>New Moon Books</td>\n",
       "        <td>1</td>\n",
       "    </tr>\n",
       "    <tr>\n",
       "        <td>899-46-2035</td>\n",
       "        <td>Ringer</td>\n",
       "        <td>Anne</td>\n",
       "        <td>New Moon Books</td>\n",
       "        <td>2</td>\n",
       "    </tr>\n",
       "    <tr>\n",
       "        <td>807-91-6654</td>\n",
       "        <td>Panteley</td>\n",
       "        <td>Sylvia</td>\n",
       "        <td>Binnet &amp; Hardley</td>\n",
       "        <td>1</td>\n",
       "    </tr>\n",
       "    <tr>\n",
       "        <td>724-80-9391</td>\n",
       "        <td>MacFeather</td>\n",
       "        <td>Stearns</td>\n",
       "        <td>Binnet &amp; Hardley</td>\n",
       "        <td>2</td>\n",
       "    </tr>\n",
       "    <tr>\n",
       "        <td>722-51-5454</td>\n",
       "        <td>DeFrance</td>\n",
       "        <td>Michel</td>\n",
       "        <td>Binnet &amp; Hardley</td>\n",
       "        <td>2</td>\n",
       "    </tr>\n",
       "    <tr>\n",
       "        <td>712-45-1867</td>\n",
       "        <td>del Castillo</td>\n",
       "        <td>Innes</td>\n",
       "        <td>Binnet &amp; Hardley</td>\n",
       "        <td>1</td>\n",
       "    </tr>\n",
       "    <tr>\n",
       "        <td>648-92-1872</td>\n",
       "        <td>Blotchet-Halls</td>\n",
       "        <td>Reginald</td>\n",
       "        <td>Binnet &amp; Hardley</td>\n",
       "        <td>1</td>\n",
       "    </tr>\n",
       "    <tr>\n",
       "        <td>486-29-1786</td>\n",
       "        <td>Locksley</td>\n",
       "        <td>Charlene</td>\n",
       "        <td>Algodata Infosystems</td>\n",
       "        <td>1</td>\n",
       "    </tr>\n",
       "    <tr>\n",
       "        <td>486-29-1786</td>\n",
       "        <td>Locksley</td>\n",
       "        <td>Charlene</td>\n",
       "        <td>New Moon Books</td>\n",
       "        <td>1</td>\n",
       "    </tr>\n",
       "    <tr>\n",
       "        <td>427-17-2319</td>\n",
       "        <td>Dull</td>\n",
       "        <td>Ann</td>\n",
       "        <td>Algodata Infosystems</td>\n",
       "        <td>2</td>\n",
       "    </tr>\n",
       "    <tr>\n",
       "        <td>274-80-9391</td>\n",
       "        <td>Straight</td>\n",
       "        <td>Dean</td>\n",
       "        <td>Algodata Infosystems</td>\n",
       "        <td>1</td>\n",
       "    </tr>\n",
       "    <tr>\n",
       "        <td>267-41-2394</td>\n",
       "        <td>O&#x27;Leary</td>\n",
       "        <td>Michael</td>\n",
       "        <td>Binnet &amp; Hardley</td>\n",
       "        <td>3</td>\n",
       "    </tr>\n",
       "    <tr>\n",
       "        <td>267-41-2394</td>\n",
       "        <td>O&#x27;Leary</td>\n",
       "        <td>Michael</td>\n",
       "        <td>Algodata Infosystems</td>\n",
       "        <td>2</td>\n",
       "    </tr>\n",
       "    <tr>\n",
       "        <td>238-95-7766</td>\n",
       "        <td>Carson</td>\n",
       "        <td>Cheryl</td>\n",
       "        <td>Algodata Infosystems</td>\n",
       "        <td>1</td>\n",
       "    </tr>\n",
       "    <tr>\n",
       "        <td>213-46-8915</td>\n",
       "        <td>Green</td>\n",
       "        <td>Marjorie</td>\n",
       "        <td>New Moon Books</td>\n",
       "        <td>1</td>\n",
       "    </tr>\n",
       "    <tr>\n",
       "        <td>213-46-8915</td>\n",
       "        <td>Green</td>\n",
       "        <td>Marjorie</td>\n",
       "        <td>Algodata Infosystems</td>\n",
       "        <td>2</td>\n",
       "    </tr>\n",
       "    <tr>\n",
       "        <td>172-32-1176</td>\n",
       "        <td>White</td>\n",
       "        <td>Johnson</td>\n",
       "        <td>New Moon Books</td>\n",
       "        <td>1</td>\n",
       "    </tr>\n",
       "</table>"
      ],
      "text/plain": [
       "[('998-72-3567', 'Ringer', 'Albert', 'New Moon Books', 1),\n",
       " ('899-46-2035', 'Ringer', 'Anne', 'New Moon Books', 2),\n",
       " ('807-91-6654', 'Panteley', 'Sylvia', 'Binnet & Hardley', 1),\n",
       " ('724-80-9391', 'MacFeather', 'Stearns', 'Binnet & Hardley', 2),\n",
       " ('722-51-5454', 'DeFrance', 'Michel', 'Binnet & Hardley', 2),\n",
       " ('712-45-1867', 'del Castillo', 'Innes', 'Binnet & Hardley', 1),\n",
       " ('648-92-1872', 'Blotchet-Halls', 'Reginald', 'Binnet & Hardley', 1),\n",
       " ('486-29-1786', 'Locksley', 'Charlene', 'Algodata Infosystems', 1),\n",
       " ('486-29-1786', 'Locksley', 'Charlene', 'New Moon Books', 1),\n",
       " ('427-17-2319', 'Dull', 'Ann', 'Algodata Infosystems', 2),\n",
       " ('274-80-9391', 'Straight', 'Dean', 'Algodata Infosystems', 1),\n",
       " ('267-41-2394', \"O'Leary\", 'Michael', 'Binnet & Hardley', 3),\n",
       " ('267-41-2394', \"O'Leary\", 'Michael', 'Algodata Infosystems', 2),\n",
       " ('238-95-7766', 'Carson', 'Cheryl', 'Algodata Infosystems', 1),\n",
       " ('213-46-8915', 'Green', 'Marjorie', 'New Moon Books', 1),\n",
       " ('213-46-8915', 'Green', 'Marjorie', 'Algodata Infosystems', 2),\n",
       " ('172-32-1176', 'White', 'Johnson', 'New Moon Books', 1)]"
      ]
     },
     "execution_count": 14,
     "metadata": {},
     "output_type": "execute_result"
    }
   ],
   "source": [
    "%%sql\n",
    "select a.au_id as 'AUTHOR ID', \n",
    "        a.au_lname as 'LAST NAME', \n",
    "        a.au_fname as 'FIRST NAME', \n",
    "        p.pub_name as PUBLISHER,\n",
    "        count(*) as 'TITLE COUNT'\n",
    "from authors a join titleauthor ta on a.au_id = ta.au_id\n",
    "               join titles t on t.title_id = ta.title_id\n",
    "               join publishers p on p.pub_id = t.pub_id\n",
    "group by t.title\n",
    "order by a.au_id desc"
   ]
  },
  {
   "cell_type": "markdown",
   "metadata": {},
   "source": [
    "# Challenge 3 - Best Selling Authors"
   ]
  },
  {
   "cell_type": "code",
   "execution_count": 21,
   "metadata": {
    "ExecuteTime": {
     "end_time": "2020-08-20T19:14:49.915354Z",
     "start_time": "2020-08-20T19:14:49.886982Z"
    }
   },
   "outputs": [
    {
     "name": "stdout",
     "output_type": "stream",
     "text": [
      " * sqlite:///publications.db\n",
      "Done.\n"
     ]
    },
    {
     "data": {
      "text/html": [
       "<table>\n",
       "    <tr>\n",
       "        <th>AUTHOR ID</th>\n",
       "        <th>LAST NAME</th>\n",
       "        <th>FIRST NAME</th>\n",
       "        <th>TOTAL</th>\n",
       "    </tr>\n",
       "    <tr>\n",
       "        <td>899-46-2035</td>\n",
       "        <td>Ringer</td>\n",
       "        <td>Anne</td>\n",
       "        <td>148</td>\n",
       "    </tr>\n",
       "    <tr>\n",
       "        <td>998-72-3567</td>\n",
       "        <td>Ringer</td>\n",
       "        <td>Albert</td>\n",
       "        <td>133</td>\n",
       "    </tr>\n",
       "    <tr>\n",
       "        <td>213-46-8915</td>\n",
       "        <td>Green</td>\n",
       "        <td>Marjorie</td>\n",
       "        <td>50</td>\n",
       "    </tr>\n",
       "</table>"
      ],
      "text/plain": [
       "[('899-46-2035', 'Ringer', 'Anne', 148),\n",
       " ('998-72-3567', 'Ringer', 'Albert', 133),\n",
       " ('213-46-8915', 'Green', 'Marjorie', 50)]"
      ]
     },
     "execution_count": 21,
     "metadata": {},
     "output_type": "execute_result"
    }
   ],
   "source": [
    "%%sql\n",
    "select  a.au_id as 'AUTHOR ID', \n",
    "        a.au_lname as 'LAST NAME', \n",
    "        a.au_fname as 'FIRST NAME',\n",
    "        sum(s.qty)  as 'TOTAL'\n",
    "from authors a join titleauthor ta on a.au_id = ta.au_id\n",
    "               join titles t on t.title_id = ta.title_id\n",
    "               join sales s on s.title_id = t.title_id\n",
    "group by a.au_id\n",
    "order by total desc\n",
    "limit 3"
   ]
  },
  {
   "cell_type": "markdown",
   "metadata": {},
   "source": [
    "# Challenge 4 - Best Selling Authors Ranking"
   ]
  },
  {
   "cell_type": "code",
   "execution_count": 23,
   "metadata": {
    "ExecuteTime": {
     "end_time": "2020-08-20T19:15:05.130768Z",
     "start_time": "2020-08-20T19:15:05.103510Z"
    }
   },
   "outputs": [
    {
     "name": "stdout",
     "output_type": "stream",
     "text": [
      " * sqlite:///publications.db\n",
      "Done.\n"
     ]
    },
    {
     "data": {
      "text/html": [
       "<table>\n",
       "    <tr>\n",
       "        <th>AUTHOR ID</th>\n",
       "        <th>LAST NAME</th>\n",
       "        <th>FIRST NAME</th>\n",
       "        <th>TOTAL</th>\n",
       "    </tr>\n",
       "    <tr>\n",
       "        <td>899-46-2035</td>\n",
       "        <td>Ringer</td>\n",
       "        <td>Anne</td>\n",
       "        <td>148</td>\n",
       "    </tr>\n",
       "    <tr>\n",
       "        <td>998-72-3567</td>\n",
       "        <td>Ringer</td>\n",
       "        <td>Albert</td>\n",
       "        <td>133</td>\n",
       "    </tr>\n",
       "    <tr>\n",
       "        <td>213-46-8915</td>\n",
       "        <td>Green</td>\n",
       "        <td>Marjorie</td>\n",
       "        <td>50</td>\n",
       "    </tr>\n",
       "    <tr>\n",
       "        <td>427-17-2319</td>\n",
       "        <td>Dull</td>\n",
       "        <td>Ann</td>\n",
       "        <td>50</td>\n",
       "    </tr>\n",
       "    <tr>\n",
       "        <td>846-92-7186</td>\n",
       "        <td>Hunter</td>\n",
       "        <td>Sheryl</td>\n",
       "        <td>50</td>\n",
       "    </tr>\n",
       "    <tr>\n",
       "        <td>267-41-2394</td>\n",
       "        <td>O&#x27;Leary</td>\n",
       "        <td>Michael</td>\n",
       "        <td>45</td>\n",
       "    </tr>\n",
       "    <tr>\n",
       "        <td>724-80-9391</td>\n",
       "        <td>MacFeather</td>\n",
       "        <td>Stearns</td>\n",
       "        <td>45</td>\n",
       "    </tr>\n",
       "    <tr>\n",
       "        <td>722-51-5454</td>\n",
       "        <td>DeFrance</td>\n",
       "        <td>Michel</td>\n",
       "        <td>40</td>\n",
       "    </tr>\n",
       "    <tr>\n",
       "        <td>807-91-6654</td>\n",
       "        <td>Panteley</td>\n",
       "        <td>Sylvia</td>\n",
       "        <td>40</td>\n",
       "    </tr>\n",
       "    <tr>\n",
       "        <td>238-95-7766</td>\n",
       "        <td>Carson</td>\n",
       "        <td>Cheryl</td>\n",
       "        <td>30</td>\n",
       "    </tr>\n",
       "    <tr>\n",
       "        <td>486-29-1786</td>\n",
       "        <td>Locksley</td>\n",
       "        <td>Charlene</td>\n",
       "        <td>25</td>\n",
       "    </tr>\n",
       "    <tr>\n",
       "        <td>472-27-2349</td>\n",
       "        <td>Gringlesby</td>\n",
       "        <td>Burt</td>\n",
       "        <td>20</td>\n",
       "    </tr>\n",
       "    <tr>\n",
       "        <td>648-92-1872</td>\n",
       "        <td>Blotchet-Halls</td>\n",
       "        <td>Reginald</td>\n",
       "        <td>20</td>\n",
       "    </tr>\n",
       "    <tr>\n",
       "        <td>672-71-3249</td>\n",
       "        <td>Yokomoto</td>\n",
       "        <td>Akiko</td>\n",
       "        <td>20</td>\n",
       "    </tr>\n",
       "    <tr>\n",
       "        <td>756-30-7391</td>\n",
       "        <td>Karsen</td>\n",
       "        <td>Livia</td>\n",
       "        <td>20</td>\n",
       "    </tr>\n",
       "    <tr>\n",
       "        <td>172-32-1176</td>\n",
       "        <td>White</td>\n",
       "        <td>Johnson</td>\n",
       "        <td>15</td>\n",
       "    </tr>\n",
       "    <tr>\n",
       "        <td>274-80-9391</td>\n",
       "        <td>Straight</td>\n",
       "        <td>Dean</td>\n",
       "        <td>15</td>\n",
       "    </tr>\n",
       "    <tr>\n",
       "        <td>409-56-7008</td>\n",
       "        <td>Bennet</td>\n",
       "        <td>Abraham</td>\n",
       "        <td>15</td>\n",
       "    </tr>\n",
       "    <tr>\n",
       "        <td>712-45-1867</td>\n",
       "        <td>del Castillo</td>\n",
       "        <td>Innes</td>\n",
       "        <td>10</td>\n",
       "    </tr>\n",
       "    <tr>\n",
       "        <td>341-22-1782</td>\n",
       "        <td>Smith</td>\n",
       "        <td>Meander</td>\n",
       "        <td>0</td>\n",
       "    </tr>\n",
       "    <tr>\n",
       "        <td>527-72-3246</td>\n",
       "        <td>Greene</td>\n",
       "        <td>Morningstar</td>\n",
       "        <td>0</td>\n",
       "    </tr>\n",
       "    <tr>\n",
       "        <td>724-08-9931</td>\n",
       "        <td>Stringer</td>\n",
       "        <td>Dirk</td>\n",
       "        <td>0</td>\n",
       "    </tr>\n",
       "    <tr>\n",
       "        <td>893-72-1158</td>\n",
       "        <td>McBadden</td>\n",
       "        <td>Heather</td>\n",
       "        <td>0</td>\n",
       "    </tr>\n",
       "</table>"
      ],
      "text/plain": [
       "[('899-46-2035', 'Ringer', 'Anne', 148),\n",
       " ('998-72-3567', 'Ringer', 'Albert', 133),\n",
       " ('213-46-8915', 'Green', 'Marjorie', 50),\n",
       " ('427-17-2319', 'Dull', 'Ann', 50),\n",
       " ('846-92-7186', 'Hunter', 'Sheryl', 50),\n",
       " ('267-41-2394', \"O'Leary\", 'Michael', 45),\n",
       " ('724-80-9391', 'MacFeather', 'Stearns', 45),\n",
       " ('722-51-5454', 'DeFrance', 'Michel', 40),\n",
       " ('807-91-6654', 'Panteley', 'Sylvia', 40),\n",
       " ('238-95-7766', 'Carson', 'Cheryl', 30),\n",
       " ('486-29-1786', 'Locksley', 'Charlene', 25),\n",
       " ('472-27-2349', 'Gringlesby', 'Burt', 20),\n",
       " ('648-92-1872', 'Blotchet-Halls', 'Reginald', 20),\n",
       " ('672-71-3249', 'Yokomoto', 'Akiko', 20),\n",
       " ('756-30-7391', 'Karsen', 'Livia', 20),\n",
       " ('172-32-1176', 'White', 'Johnson', 15),\n",
       " ('274-80-9391', 'Straight', 'Dean', 15),\n",
       " ('409-56-7008', 'Bennet', 'Abraham', 15),\n",
       " ('712-45-1867', 'del Castillo', 'Innes', 10),\n",
       " ('341-22-1782', 'Smith', 'Meander', 0),\n",
       " ('527-72-3246', 'Greene', 'Morningstar', 0),\n",
       " ('724-08-9931', 'Stringer', 'Dirk', 0),\n",
       " ('893-72-1158', 'McBadden', 'Heather', 0)]"
      ]
     },
     "execution_count": 23,
     "metadata": {},
     "output_type": "execute_result"
    }
   ],
   "source": [
    "%%sql\n",
    "select  a.au_id as 'AUTHOR ID', \n",
    "        a.au_lname as 'LAST NAME', \n",
    "        a.au_fname as 'FIRST NAME',\n",
    "        sum(ifnull(s.qty,0))  as 'TOTAL'\n",
    "from authors a left join titleauthor ta on a.au_id = ta.au_id\n",
    "               left join titles t on t.title_id = ta.title_id\n",
    "               left join sales s on s.title_id = t.title_id\n",
    "group by a.au_id\n",
    "order by total desc"
   ]
  },
  {
   "cell_type": "markdown",
   "metadata": {},
   "source": [
    "# Bonus Challenge - Most Profiting Authors"
   ]
  },
  {
   "cell_type": "markdown",
   "metadata": {},
   "source": [
    "Done in the next lab (number 21)"
   ]
  },
  {
   "cell_type": "code",
   "execution_count": null,
   "metadata": {},
   "outputs": [],
   "source": []
  }
 ],
 "metadata": {
  "kernelspec": {
   "display_name": "Python 3",
   "language": "python",
   "name": "python3"
  },
  "language_info": {
   "codemirror_mode": {
    "name": "ipython",
    "version": 3
   },
   "file_extension": ".py",
   "mimetype": "text/x-python",
   "name": "python",
   "nbconvert_exporter": "python",
   "pygments_lexer": "ipython3",
   "version": "3.7.6"
  },
  "toc": {
   "base_numbering": 1,
   "nav_menu": {
    "height": "223px",
    "width": "182px"
   },
   "number_sections": false,
   "sideBar": true,
   "skip_h1_title": true,
   "title_cell": "Table of Contents",
   "title_sidebar": "Contents",
   "toc_cell": false,
   "toc_position": {},
   "toc_section_display": true,
   "toc_window_display": false
  },
  "varInspector": {
   "cols": {
    "lenName": 16,
    "lenType": 16,
    "lenVar": 40
   },
   "kernels_config": {
    "python": {
     "delete_cmd_postfix": "",
     "delete_cmd_prefix": "del ",
     "library": "var_list.py",
     "varRefreshCmd": "print(var_dic_list())"
    },
    "r": {
     "delete_cmd_postfix": ") ",
     "delete_cmd_prefix": "rm(",
     "library": "var_list.r",
     "varRefreshCmd": "cat(var_dic_list()) "
    }
   },
   "types_to_exclude": [
    "module",
    "function",
    "builtin_function_or_method",
    "instance",
    "_Feature"
   ],
   "window_display": false
  }
 },
 "nbformat": 4,
 "nbformat_minor": 4
}
