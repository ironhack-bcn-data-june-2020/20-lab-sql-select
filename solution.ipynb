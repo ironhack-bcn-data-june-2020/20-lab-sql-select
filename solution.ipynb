{
 "cells": [
  {
   "cell_type": "code",
   "execution_count": 2,
   "metadata": {},
   "outputs": [],
   "source": [
    "%load_ext sql"
   ]
  },
  {
   "cell_type": "code",
   "execution_count": 16,
   "metadata": {},
   "outputs": [],
   "source": [
    "%sql sqlite:///publications.db"
   ]
  },
  {
   "cell_type": "code",
   "execution_count": 17,
   "metadata": {},
   "outputs": [
    {
     "name": "stdout",
     "output_type": "stream",
     "text": [
      "   sqlite:///.publications.db\n",
      "   sqlite:////Users/tinkerbell/ironhack/labs/20-lab-sql-select.db\n",
      "   sqlite:////Users/tinkerbell/ironhack/labs/20-lab-sql-select.publications.db\n",
      " * sqlite:///publications.db\n",
      "Done.\n"
     ]
    },
    {
     "data": {
      "text/html": [
       "<table>\n",
       "    <tr>\n",
       "        <th>name</th>\n",
       "    </tr>\n",
       "    <tr>\n",
       "        <td>authors</td>\n",
       "    </tr>\n",
       "    <tr>\n",
       "        <td>discounts</td>\n",
       "    </tr>\n",
       "    <tr>\n",
       "        <td>employee</td>\n",
       "    </tr>\n",
       "    <tr>\n",
       "        <td>jobs</td>\n",
       "    </tr>\n",
       "    <tr>\n",
       "        <td>pub_info</td>\n",
       "    </tr>\n",
       "    <tr>\n",
       "        <td>publishers</td>\n",
       "    </tr>\n",
       "    <tr>\n",
       "        <td>roysched</td>\n",
       "    </tr>\n",
       "    <tr>\n",
       "        <td>sales</td>\n",
       "    </tr>\n",
       "    <tr>\n",
       "        <td>stores</td>\n",
       "    </tr>\n",
       "    <tr>\n",
       "        <td>titleauthor</td>\n",
       "    </tr>\n",
       "    <tr>\n",
       "        <td>titles</td>\n",
       "    </tr>\n",
       "</table>"
      ],
      "text/plain": [
       "[('authors',),\n",
       " ('discounts',),\n",
       " ('employee',),\n",
       " ('jobs',),\n",
       " ('pub_info',),\n",
       " ('publishers',),\n",
       " ('roysched',),\n",
       " ('sales',),\n",
       " ('stores',),\n",
       " ('titleauthor',),\n",
       " ('titles',)]"
      ]
     },
     "execution_count": 17,
     "metadata": {},
     "output_type": "execute_result"
    }
   ],
   "source": [
    "%%sql\n",
    "SELECT name FROM sqlite_master\n",
    "WHERE type='table'\n",
    "ORDER BY name;"
   ]
  },
  {
   "cell_type": "code",
   "execution_count": 6,
   "metadata": {},
   "outputs": [
    {
     "name": "stdout",
     "output_type": "stream",
     "text": [
      "   sqlite:////Users/tinkerbell/ironhack/labs/20-lab-sql-select.db\n",
      " * sqlite:////Users/tinkerbell/ironhack/labs/20-lab-sql-select.publications.db\n",
      "(sqlite3.OperationalError) no such table: titleauthor\n",
      "[SQL: select * from titleauthor\n",
      "limit 10]\n",
      "(Background on this error at: http://sqlalche.me/e/13/e3q8)\n"
     ]
    }
   ],
   "source": [
    "%%sql\n",
    "select *\n",
    "from titleauthor\n",
    "limit 10"
   ]
  },
  {
   "cell_type": "code",
   "execution_count": null,
   "metadata": {},
   "outputs": [],
   "source": []
  }
 ],
 "metadata": {
  "kernelspec": {
   "display_name": "Python 3",
   "language": "python",
   "name": "python3"
  },
  "language_info": {
   "codemirror_mode": {
    "name": "ipython",
    "version": 3
   },
   "file_extension": ".py",
   "mimetype": "text/x-python",
   "name": "python",
   "nbconvert_exporter": "python",
   "pygments_lexer": "ipython3",
   "version": "3.7.7"
  }
 },
 "nbformat": 4,
 "nbformat_minor": 4
}
