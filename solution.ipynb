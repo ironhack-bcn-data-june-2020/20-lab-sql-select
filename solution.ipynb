{
 "cells": [
  {
   "cell_type": "code",
   "execution_count": 2,
   "metadata": {},
   "outputs": [],
   "source": [
    "%load_ext sql"
   ]
  },
  {
   "cell_type": "code",
   "execution_count": 3,
   "metadata": {},
   "outputs": [],
   "source": [
    "%sql sqlite:///publications.db"
   ]
  },
  {
   "cell_type": "code",
   "execution_count": 4,
   "metadata": {},
   "outputs": [
    {
     "name": "stdout",
     "output_type": "stream",
     "text": [
      " * sqlite:///publications.db\n",
      "Done.\n"
     ]
    },
    {
     "data": {
      "text/html": [
       "<table>\n",
       "    <tr>\n",
       "        <th>name</th>\n",
       "    </tr>\n",
       "    <tr>\n",
       "        <td>authors</td>\n",
       "    </tr>\n",
       "    <tr>\n",
       "        <td>discounts</td>\n",
       "    </tr>\n",
       "    <tr>\n",
       "        <td>employee</td>\n",
       "    </tr>\n",
       "    <tr>\n",
       "        <td>jobs</td>\n",
       "    </tr>\n",
       "    <tr>\n",
       "        <td>pub_info</td>\n",
       "    </tr>\n",
       "    <tr>\n",
       "        <td>publishers</td>\n",
       "    </tr>\n",
       "    <tr>\n",
       "        <td>roysched</td>\n",
       "    </tr>\n",
       "    <tr>\n",
       "        <td>sales</td>\n",
       "    </tr>\n",
       "    <tr>\n",
       "        <td>stores</td>\n",
       "    </tr>\n",
       "    <tr>\n",
       "        <td>titleauthor</td>\n",
       "    </tr>\n",
       "    <tr>\n",
       "        <td>titles</td>\n",
       "    </tr>\n",
       "</table>"
      ],
      "text/plain": [
       "[('authors',),\n",
       " ('discounts',),\n",
       " ('employee',),\n",
       " ('jobs',),\n",
       " ('pub_info',),\n",
       " ('publishers',),\n",
       " ('roysched',),\n",
       " ('sales',),\n",
       " ('stores',),\n",
       " ('titleauthor',),\n",
       " ('titles',)]"
      ]
     },
     "execution_count": 4,
     "metadata": {},
     "output_type": "execute_result"
    }
   ],
   "source": [
    "%%sql\n",
    "select name\n",
    "from sqlite_master\n",
    "where type='table'\n",
    "order by name;"
   ]
  },
  {
   "cell_type": "code",
   "execution_count": 5,
   "metadata": {},
   "outputs": [
    {
     "name": "stdout",
     "output_type": "stream",
     "text": [
      " * sqlite:///publications.db\n",
      "Done.\n"
     ]
    },
    {
     "data": {
      "text/html": [
       "<table>\n",
       "    <tr>\n",
       "        <th>au_id</th>\n",
       "        <th>au_lname</th>\n",
       "        <th>au_fname</th>\n",
       "        <th>phone</th>\n",
       "        <th>address</th>\n",
       "        <th>city</th>\n",
       "        <th>state</th>\n",
       "        <th>zip</th>\n",
       "        <th>contract</th>\n",
       "    </tr>\n",
       "    <tr>\n",
       "        <td>172-32-1176</td>\n",
       "        <td>White</td>\n",
       "        <td>Johnson</td>\n",
       "        <td>408 496-7223</td>\n",
       "        <td>10932 Bigge Rd.</td>\n",
       "        <td>Menlo Park</td>\n",
       "        <td>CA</td>\n",
       "        <td>94025</td>\n",
       "        <td>1</td>\n",
       "    </tr>\n",
       "    <tr>\n",
       "        <td>213-46-8915</td>\n",
       "        <td>Green</td>\n",
       "        <td>Marjorie</td>\n",
       "        <td>415 986-7020</td>\n",
       "        <td>309 63rd St. #411</td>\n",
       "        <td>Oakland</td>\n",
       "        <td>CA</td>\n",
       "        <td>94618</td>\n",
       "        <td>1</td>\n",
       "    </tr>\n",
       "    <tr>\n",
       "        <td>238-95-7766</td>\n",
       "        <td>Carson</td>\n",
       "        <td>Cheryl</td>\n",
       "        <td>415 548-7723</td>\n",
       "        <td>589 Darwin Ln.</td>\n",
       "        <td>Berkeley</td>\n",
       "        <td>CA</td>\n",
       "        <td>94705</td>\n",
       "        <td>1</td>\n",
       "    </tr>\n",
       "    <tr>\n",
       "        <td>267-41-2394</td>\n",
       "        <td>O&#x27;Leary</td>\n",
       "        <td>Michael</td>\n",
       "        <td>408 286-2428</td>\n",
       "        <td>22 Cleveland Av. #14</td>\n",
       "        <td>San Jose</td>\n",
       "        <td>CA</td>\n",
       "        <td>95128</td>\n",
       "        <td>1</td>\n",
       "    </tr>\n",
       "    <tr>\n",
       "        <td>274-80-9391</td>\n",
       "        <td>Straight</td>\n",
       "        <td>Dean</td>\n",
       "        <td>415 834-2919</td>\n",
       "        <td>5420 College Av.</td>\n",
       "        <td>Oakland</td>\n",
       "        <td>CA</td>\n",
       "        <td>94609</td>\n",
       "        <td>1</td>\n",
       "    </tr>\n",
       "</table>"
      ],
      "text/plain": [
       "[('172-32-1176', 'White', 'Johnson', '408 496-7223', '10932 Bigge Rd.', 'Menlo Park', 'CA', '94025', 1),\n",
       " ('213-46-8915', 'Green', 'Marjorie', '415 986-7020', '309 63rd St. #411', 'Oakland', 'CA', '94618', 1),\n",
       " ('238-95-7766', 'Carson', 'Cheryl', '415 548-7723', '589 Darwin Ln.', 'Berkeley', 'CA', '94705', 1),\n",
       " ('267-41-2394', \"O'Leary\", 'Michael', '408 286-2428', '22 Cleveland Av. #14', 'San Jose', 'CA', '95128', 1),\n",
       " ('274-80-9391', 'Straight', 'Dean', '415 834-2919', '5420 College Av.', 'Oakland', 'CA', '94609', 1)]"
      ]
     },
     "execution_count": 5,
     "metadata": {},
     "output_type": "execute_result"
    }
   ],
   "source": [
    "%%sql\n",
    "select *\n",
    "from authors\n",
    "limit 5"
   ]
  },
  {
   "cell_type": "code",
   "execution_count": 6,
   "metadata": {},
   "outputs": [
    {
     "name": "stdout",
     "output_type": "stream",
     "text": [
      " * sqlite:///publications.db\n",
      "Done.\n"
     ]
    },
    {
     "data": {
      "text/html": [
       "<table>\n",
       "    <tr>\n",
       "        <th>title_id</th>\n",
       "        <th>title</th>\n",
       "        <th>type</th>\n",
       "        <th>pub_id</th>\n",
       "        <th>price</th>\n",
       "        <th>advance</th>\n",
       "        <th>royalty</th>\n",
       "        <th>ytd_sales</th>\n",
       "        <th>notes</th>\n",
       "        <th>pubdate</th>\n",
       "    </tr>\n",
       "    <tr>\n",
       "        <td>BU1032</td>\n",
       "        <td>The Busy Executive&#x27;s Database Guide</td>\n",
       "        <td>business</td>\n",
       "        <td>1389</td>\n",
       "        <td>19.99</td>\n",
       "        <td>5000</td>\n",
       "        <td>10</td>\n",
       "        <td>4095</td>\n",
       "        <td>An overview of available database systems with emphasis on common business applications. Illustrated.</td>\n",
       "        <td>1991-06-12 00:00:00</td>\n",
       "    </tr>\n",
       "    <tr>\n",
       "        <td>BU1111</td>\n",
       "        <td>Cooking with Computers: Surreptitious Balance Sheets</td>\n",
       "        <td>business</td>\n",
       "        <td>1389</td>\n",
       "        <td>11.95</td>\n",
       "        <td>5000</td>\n",
       "        <td>10</td>\n",
       "        <td>3876</td>\n",
       "        <td>Helpful hints on how to use your electronic resources to the best advantage.</td>\n",
       "        <td>1991-06-09 00:00:00</td>\n",
       "    </tr>\n",
       "    <tr>\n",
       "        <td>BU2075</td>\n",
       "        <td>You Can Combat Computer Stress!</td>\n",
       "        <td>business</td>\n",
       "        <td>0736</td>\n",
       "        <td>2.99</td>\n",
       "        <td>10125</td>\n",
       "        <td>24</td>\n",
       "        <td>18722</td>\n",
       "        <td>The latest medical and psychological techniques for living with the electronic office. Easy-to-understand explanations.</td>\n",
       "        <td>1991-06-30 00:00:00</td>\n",
       "    </tr>\n",
       "    <tr>\n",
       "        <td>BU7832</td>\n",
       "        <td>Straight Talk About Computers</td>\n",
       "        <td>business</td>\n",
       "        <td>1389</td>\n",
       "        <td>19.99</td>\n",
       "        <td>5000</td>\n",
       "        <td>10</td>\n",
       "        <td>4095</td>\n",
       "        <td>Annotated analysis of what computers can do for you: a no-hype guide for the critical user.</td>\n",
       "        <td>1991-06-22 00:00:00</td>\n",
       "    </tr>\n",
       "    <tr>\n",
       "        <td>MC2222</td>\n",
       "        <td>Silicon Valley Gastronomic Treats</td>\n",
       "        <td>mod_cook</td>\n",
       "        <td>0877</td>\n",
       "        <td>19.99</td>\n",
       "        <td>0</td>\n",
       "        <td>12</td>\n",
       "        <td>2032</td>\n",
       "        <td>Favorite recipes for quick, easy, and elegant meals.</td>\n",
       "        <td>1991-06-09 00:00:00</td>\n",
       "    </tr>\n",
       "</table>"
      ],
      "text/plain": [
       "[('BU1032', \"The Busy Executive's Database Guide\", 'business', '1389', 19.99, 5000, 10, 4095, 'An overview of available database systems with emphasis on common business applications. Illustrated.', '1991-06-12 00:00:00'),\n",
       " ('BU1111', 'Cooking with Computers: Surreptitious Balance Sheets', 'business', '1389', 11.95, 5000, 10, 3876, 'Helpful hints on how to use your electronic resources to the best advantage.', '1991-06-09 00:00:00'),\n",
       " ('BU2075', 'You Can Combat Computer Stress!', 'business', '0736', 2.99, 10125, 24, 18722, 'The latest medical and psychological techniques for living with the electronic office. Easy-to-understand explanations.', '1991-06-30 00:00:00'),\n",
       " ('BU7832', 'Straight Talk About Computers', 'business', '1389', 19.99, 5000, 10, 4095, 'Annotated analysis of what computers can do for you: a no-hype guide for the critical user.', '1991-06-22 00:00:00'),\n",
       " ('MC2222', 'Silicon Valley Gastronomic Treats', 'mod_cook', '0877', 19.99, 0, 12, 2032, 'Favorite recipes for quick, easy, and elegant meals.', '1991-06-09 00:00:00')]"
      ]
     },
     "execution_count": 6,
     "metadata": {},
     "output_type": "execute_result"
    }
   ],
   "source": [
    "%%sql\n",
    "select *\n",
    "from titles\n",
    "limit 5"
   ]
  },
  {
   "cell_type": "code",
   "execution_count": 7,
   "metadata": {},
   "outputs": [
    {
     "name": "stdout",
     "output_type": "stream",
     "text": [
      " * sqlite:///publications.db\n",
      "Done.\n"
     ]
    },
    {
     "data": {
      "text/html": [
       "<table>\n",
       "    <tr>\n",
       "        <th>au_id</th>\n",
       "        <th>title_id</th>\n",
       "        <th>au_ord</th>\n",
       "        <th>royaltyper</th>\n",
       "    </tr>\n",
       "    <tr>\n",
       "        <td>213-46-8915</td>\n",
       "        <td>BU1032</td>\n",
       "        <td>2</td>\n",
       "        <td>40</td>\n",
       "    </tr>\n",
       "    <tr>\n",
       "        <td>409-56-7008</td>\n",
       "        <td>BU1032</td>\n",
       "        <td>1</td>\n",
       "        <td>60</td>\n",
       "    </tr>\n",
       "    <tr>\n",
       "        <td>267-41-2394</td>\n",
       "        <td>BU1111</td>\n",
       "        <td>2</td>\n",
       "        <td>40</td>\n",
       "    </tr>\n",
       "    <tr>\n",
       "        <td>724-80-9391</td>\n",
       "        <td>BU1111</td>\n",
       "        <td>1</td>\n",
       "        <td>60</td>\n",
       "    </tr>\n",
       "    <tr>\n",
       "        <td>213-46-8915</td>\n",
       "        <td>BU2075</td>\n",
       "        <td>1</td>\n",
       "        <td>100</td>\n",
       "    </tr>\n",
       "    <tr>\n",
       "        <td>274-80-9391</td>\n",
       "        <td>BU7832</td>\n",
       "        <td>1</td>\n",
       "        <td>100</td>\n",
       "    </tr>\n",
       "    <tr>\n",
       "        <td>712-45-1867</td>\n",
       "        <td>MC2222</td>\n",
       "        <td>1</td>\n",
       "        <td>100</td>\n",
       "    </tr>\n",
       "    <tr>\n",
       "        <td>722-51-5454</td>\n",
       "        <td>MC3021</td>\n",
       "        <td>1</td>\n",
       "        <td>75</td>\n",
       "    </tr>\n",
       "    <tr>\n",
       "        <td>899-46-2035</td>\n",
       "        <td>MC3021</td>\n",
       "        <td>2</td>\n",
       "        <td>25</td>\n",
       "    </tr>\n",
       "    <tr>\n",
       "        <td>238-95-7766</td>\n",
       "        <td>PC1035</td>\n",
       "        <td>1</td>\n",
       "        <td>100</td>\n",
       "    </tr>\n",
       "</table>"
      ],
      "text/plain": [
       "[('213-46-8915', 'BU1032', 2, 40),\n",
       " ('409-56-7008', 'BU1032', 1, 60),\n",
       " ('267-41-2394', 'BU1111', 2, 40),\n",
       " ('724-80-9391', 'BU1111', 1, 60),\n",
       " ('213-46-8915', 'BU2075', 1, 100),\n",
       " ('274-80-9391', 'BU7832', 1, 100),\n",
       " ('712-45-1867', 'MC2222', 1, 100),\n",
       " ('722-51-5454', 'MC3021', 1, 75),\n",
       " ('899-46-2035', 'MC3021', 2, 25),\n",
       " ('238-95-7766', 'PC1035', 1, 100)]"
      ]
     },
     "execution_count": 7,
     "metadata": {},
     "output_type": "execute_result"
    }
   ],
   "source": [
    "%%sql\n",
    "select *\n",
    "from titleauthor\n",
    "order by title_id\n",
    "limit 10"
   ]
  },
  {
   "cell_type": "code",
   "execution_count": 8,
   "metadata": {},
   "outputs": [
    {
     "name": "stdout",
     "output_type": "stream",
     "text": [
      " * sqlite:///publications.db\n",
      "Done.\n"
     ]
    },
    {
     "data": {
      "text/html": [
       "<table>\n",
       "    <tr>\n",
       "        <th>au_id</th>\n",
       "        <th>title_id</th>\n",
       "        <th>au_ord</th>\n",
       "        <th>royaltyper</th>\n",
       "    </tr>\n",
       "    <tr>\n",
       "        <td>172-32-1176</td>\n",
       "        <td>PS3333</td>\n",
       "        <td>1</td>\n",
       "        <td>100</td>\n",
       "    </tr>\n",
       "    <tr>\n",
       "        <td>213-46-8915</td>\n",
       "        <td>BU1032</td>\n",
       "        <td>2</td>\n",
       "        <td>40</td>\n",
       "    </tr>\n",
       "    <tr>\n",
       "        <td>213-46-8915</td>\n",
       "        <td>BU2075</td>\n",
       "        <td>1</td>\n",
       "        <td>100</td>\n",
       "    </tr>\n",
       "    <tr>\n",
       "        <td>238-95-7766</td>\n",
       "        <td>PC1035</td>\n",
       "        <td>1</td>\n",
       "        <td>100</td>\n",
       "    </tr>\n",
       "    <tr>\n",
       "        <td>267-41-2394</td>\n",
       "        <td>BU1111</td>\n",
       "        <td>2</td>\n",
       "        <td>40</td>\n",
       "    </tr>\n",
       "    <tr>\n",
       "        <td>267-41-2394</td>\n",
       "        <td>TC7777</td>\n",
       "        <td>2</td>\n",
       "        <td>30</td>\n",
       "    </tr>\n",
       "    <tr>\n",
       "        <td>274-80-9391</td>\n",
       "        <td>BU7832</td>\n",
       "        <td>1</td>\n",
       "        <td>100</td>\n",
       "    </tr>\n",
       "    <tr>\n",
       "        <td>409-56-7008</td>\n",
       "        <td>BU1032</td>\n",
       "        <td>1</td>\n",
       "        <td>60</td>\n",
       "    </tr>\n",
       "    <tr>\n",
       "        <td>427-17-2319</td>\n",
       "        <td>PC8888</td>\n",
       "        <td>1</td>\n",
       "        <td>50</td>\n",
       "    </tr>\n",
       "    <tr>\n",
       "        <td>472-27-2349</td>\n",
       "        <td>TC7777</td>\n",
       "        <td>3</td>\n",
       "        <td>30</td>\n",
       "    </tr>\n",
       "</table>"
      ],
      "text/plain": [
       "[('172-32-1176', 'PS3333', 1, 100),\n",
       " ('213-46-8915', 'BU1032', 2, 40),\n",
       " ('213-46-8915', 'BU2075', 1, 100),\n",
       " ('238-95-7766', 'PC1035', 1, 100),\n",
       " ('267-41-2394', 'BU1111', 2, 40),\n",
       " ('267-41-2394', 'TC7777', 2, 30),\n",
       " ('274-80-9391', 'BU7832', 1, 100),\n",
       " ('409-56-7008', 'BU1032', 1, 60),\n",
       " ('427-17-2319', 'PC8888', 1, 50),\n",
       " ('472-27-2349', 'TC7777', 3, 30)]"
      ]
     },
     "execution_count": 8,
     "metadata": {},
     "output_type": "execute_result"
    }
   ],
   "source": [
    "%%sql\n",
    "select *\n",
    "from titleauthor\n",
    "order by au_id\n",
    "limit 10"
   ]
  },
  {
   "cell_type": "markdown",
   "metadata": {},
   "source": [
    "## Challenge 1"
   ]
  },
  {
   "cell_type": "code",
   "execution_count": 35,
   "metadata": {},
   "outputs": [
    {
     "name": "stdout",
     "output_type": "stream",
     "text": [
      " * sqlite:///publications.db\n",
      "(sqlite3.OperationalError) near \"ID\": syntax error\n",
      "[SQL: select au.au_id as AUTHOR_ID ID, au.au_lname as LAST_NAME, au.au_fname as FIRST_NAME, tls.title as TITLE, pubs.pub_name as PUBLISHER \n",
      "from authors au\n",
      "join titleauthor ta ON au.au_id=ta.au_id\n",
      "join titles tls ON ta.title_id = tls.title_id  \n",
      "join publishers pubs ON tls.pub_id = pubs.pub_id\n",
      "join publishers AS totalpubs ON tls.pub_id = totalpubs.pub_id\n",
      "group by totalpubs]\n",
      "(Background on this error at: http://sqlalche.me/e/e3q8)\n"
     ]
    }
   ],
   "source": [
    "%%sql\n",
    "select au.au_id as AUTHOR_ID ID, au.au_lname as LAST_NAME, au.au_fname as FIRST_NAME, tls.title as TITLE, pubs.pub_name as PUBLISHER \n",
    "from authors au\n",
    "join titleauthor ta ON au.au_id=ta.au_id\n",
    "join titles tls ON ta.title_id = tls.title_id  \n",
    "join publishers pubs ON tls.pub_id = pubs.pub_id\n",
    "join publishers AS totalpubs ON tls.pub_id = totalpubs.pub_id\n",
    "group by totalpubs\n",
    "    "
   ]
  },
  {
   "cell_type": "code",
   "execution_count": 34,
   "metadata": {},
   "outputs": [
    {
     "name": "stdout",
     "output_type": "stream",
     "text": [
      " * sqlite:///publications.db\n",
      "Done.\n"
     ]
    },
    {
     "data": {
      "text/html": [
       "<table>\n",
       "    <tr>\n",
       "        <th>count (*)</th>\n",
       "    </tr>\n",
       "    <tr>\n",
       "        <td>25</td>\n",
       "    </tr>\n",
       "</table>"
      ],
      "text/plain": [
       "[(25,)]"
      ]
     },
     "execution_count": 34,
     "metadata": {},
     "output_type": "execute_result"
    }
   ],
   "source": [
    "%%sql\n",
    "select count (*)\n",
    "FROM authors au\n",
    "join titleauthor ta ON au.au_id=ta.au_id\n",
    "join titles tls ON ta.title_id = tls.title_id  \n",
    "join publishers pubs ON tls.pub_id = pubs.pub_id"
   ]
  },
  {
   "cell_type": "markdown",
   "metadata": {},
   "source": [
    "## Challenge 2\n"
   ]
  },
  {
   "cell_type": "code",
   "execution_count": 33,
   "metadata": {},
   "outputs": [
    {
     "name": "stdout",
     "output_type": "stream",
     "text": [
      " * sqlite:///publications.db\n",
      "Done.\n"
     ]
    },
    {
     "data": {
      "text/html": [
       "<table>\n",
       "    <tr>\n",
       "        <th>pub_name</th>\n",
       "        <th>title_id</th>\n",
       "        <th>TITLE COUNT</th>\n",
       "    </tr>\n",
       "    <tr>\n",
       "        <td>Algodata Infosystems</td>\n",
       "        <td>BU1032</td>\n",
       "        <td>18</td>\n",
       "    </tr>\n",
       "</table>"
      ],
      "text/plain": [
       "[('Algodata Infosystems', 'BU1032', 18)]"
      ]
     },
     "execution_count": 33,
     "metadata": {},
     "output_type": "execute_result"
    }
   ],
   "source": [
    "%%sql\n",
    "select pubs.pub_name, titles.title_id, count (*) as 'TITLE COUNT'\n",
    "from publishers pubs\n",
    "join titles titles\n",
    "on pubs.pub_id = titles.pub_id\n",
    "group by 'AUTHOR ID'"
   ]
  },
  {
   "cell_type": "code",
   "execution_count": 32,
   "metadata": {},
   "outputs": [
    {
     "name": "stdout",
     "output_type": "stream",
     "text": [
      " * sqlite:///publications.db\n",
      "Done.\n"
     ]
    },
    {
     "data": {
      "text/html": [
       "<table>\n",
       "    <tr>\n",
       "        <th>AUTHOR ID</th>\n",
       "        <th>LAST NAME</th>\n",
       "        <th>FIRST NAME</th>\n",
       "        <th>PUBLISHER</th>\n",
       "        <th>TITLE COUNT</th>\n",
       "    </tr>\n",
       "    <tr>\n",
       "        <td>238-95-7766</td>\n",
       "        <td>Carson</td>\n",
       "        <td>Cheryl</td>\n",
       "        <td>Algodata Infosystems</td>\n",
       "        <td>1</td>\n",
       "    </tr>\n",
       "    <tr>\n",
       "        <td>724-80-9391</td>\n",
       "        <td>MacFeather</td>\n",
       "        <td>Stearns</td>\n",
       "        <td>Binnet &amp; Hardley</td>\n",
       "        <td>2</td>\n",
       "    </tr>\n",
       "    <tr>\n",
       "        <td>267-41-2394</td>\n",
       "        <td>O&#x27;Leary</td>\n",
       "        <td>Michael</td>\n",
       "        <td>Algodata Infosystems</td>\n",
       "        <td>2</td>\n",
       "    </tr>\n",
       "    <tr>\n",
       "        <td>486-29-1786</td>\n",
       "        <td>Locksley</td>\n",
       "        <td>Charlene</td>\n",
       "        <td>New Moon Books</td>\n",
       "        <td>1</td>\n",
       "    </tr>\n",
       "    <tr>\n",
       "        <td>648-92-1872</td>\n",
       "        <td>Blotchet-Halls</td>\n",
       "        <td>Reginald</td>\n",
       "        <td>Binnet &amp; Hardley</td>\n",
       "        <td>1</td>\n",
       "    </tr>\n",
       "    <tr>\n",
       "        <td>899-46-2035</td>\n",
       "        <td>Ringer</td>\n",
       "        <td>Anne</td>\n",
       "        <td>New Moon Books</td>\n",
       "        <td>2</td>\n",
       "    </tr>\n",
       "    <tr>\n",
       "        <td>998-72-3567</td>\n",
       "        <td>Ringer</td>\n",
       "        <td>Albert</td>\n",
       "        <td>New Moon Books</td>\n",
       "        <td>1</td>\n",
       "    </tr>\n",
       "    <tr>\n",
       "        <td>486-29-1786</td>\n",
       "        <td>Locksley</td>\n",
       "        <td>Charlene</td>\n",
       "        <td>Algodata Infosystems</td>\n",
       "        <td>1</td>\n",
       "    </tr>\n",
       "    <tr>\n",
       "        <td>807-91-6654</td>\n",
       "        <td>Panteley</td>\n",
       "        <td>Sylvia</td>\n",
       "        <td>Binnet &amp; Hardley</td>\n",
       "        <td>1</td>\n",
       "    </tr>\n",
       "    <tr>\n",
       "        <td>172-32-1176</td>\n",
       "        <td>White</td>\n",
       "        <td>Johnson</td>\n",
       "        <td>New Moon Books</td>\n",
       "        <td>1</td>\n",
       "    </tr>\n",
       "    <tr>\n",
       "        <td>427-17-2319</td>\n",
       "        <td>Dull</td>\n",
       "        <td>Ann</td>\n",
       "        <td>Algodata Infosystems</td>\n",
       "        <td>2</td>\n",
       "    </tr>\n",
       "    <tr>\n",
       "        <td>712-45-1867</td>\n",
       "        <td>del Castillo</td>\n",
       "        <td>Innes</td>\n",
       "        <td>Binnet &amp; Hardley</td>\n",
       "        <td>1</td>\n",
       "    </tr>\n",
       "    <tr>\n",
       "        <td>274-80-9391</td>\n",
       "        <td>Straight</td>\n",
       "        <td>Dean</td>\n",
       "        <td>Algodata Infosystems</td>\n",
       "        <td>1</td>\n",
       "    </tr>\n",
       "    <tr>\n",
       "        <td>267-41-2394</td>\n",
       "        <td>O&#x27;Leary</td>\n",
       "        <td>Michael</td>\n",
       "        <td>Binnet &amp; Hardley</td>\n",
       "        <td>3</td>\n",
       "    </tr>\n",
       "    <tr>\n",
       "        <td>213-46-8915</td>\n",
       "        <td>Green</td>\n",
       "        <td>Marjorie</td>\n",
       "        <td>Algodata Infosystems</td>\n",
       "        <td>2</td>\n",
       "    </tr>\n",
       "    <tr>\n",
       "        <td>722-51-5454</td>\n",
       "        <td>DeFrance</td>\n",
       "        <td>Michel</td>\n",
       "        <td>Binnet &amp; Hardley</td>\n",
       "        <td>2</td>\n",
       "    </tr>\n",
       "    <tr>\n",
       "        <td>213-46-8915</td>\n",
       "        <td>Green</td>\n",
       "        <td>Marjorie</td>\n",
       "        <td>New Moon Books</td>\n",
       "        <td>1</td>\n",
       "    </tr>\n",
       "</table>"
      ],
      "text/plain": [
       "[('238-95-7766', 'Carson', 'Cheryl', 'Algodata Infosystems', 1),\n",
       " ('724-80-9391', 'MacFeather', 'Stearns', 'Binnet & Hardley', 2),\n",
       " ('267-41-2394', \"O'Leary\", 'Michael', 'Algodata Infosystems', 2),\n",
       " ('486-29-1786', 'Locksley', 'Charlene', 'New Moon Books', 1),\n",
       " ('648-92-1872', 'Blotchet-Halls', 'Reginald', 'Binnet & Hardley', 1),\n",
       " ('899-46-2035', 'Ringer', 'Anne', 'New Moon Books', 2),\n",
       " ('998-72-3567', 'Ringer', 'Albert', 'New Moon Books', 1),\n",
       " ('486-29-1786', 'Locksley', 'Charlene', 'Algodata Infosystems', 1),\n",
       " ('807-91-6654', 'Panteley', 'Sylvia', 'Binnet & Hardley', 1),\n",
       " ('172-32-1176', 'White', 'Johnson', 'New Moon Books', 1),\n",
       " ('427-17-2319', 'Dull', 'Ann', 'Algodata Infosystems', 2),\n",
       " ('712-45-1867', 'del Castillo', 'Innes', 'Binnet & Hardley', 1),\n",
       " ('274-80-9391', 'Straight', 'Dean', 'Algodata Infosystems', 1),\n",
       " ('267-41-2394', \"O'Leary\", 'Michael', 'Binnet & Hardley', 3),\n",
       " ('213-46-8915', 'Green', 'Marjorie', 'Algodata Infosystems', 2),\n",
       " ('722-51-5454', 'DeFrance', 'Michel', 'Binnet & Hardley', 2),\n",
       " ('213-46-8915', 'Green', 'Marjorie', 'New Moon Books', 1)]"
      ]
     },
     "execution_count": 32,
     "metadata": {},
     "output_type": "execute_result"
    }
   ],
   "source": [
    "%%sql\n",
    "select au.au_id as 'AUTHOR ID', au.au_lname as 'LAST NAME', au.au_fname as 'FIRST NAME', pubs.pub_name as 'PUBLISHER', COUNT(*) as 'TITLE COUNT' \n",
    "from authors au\n",
    "join titleauthor ta ON au.au_id=ta.au_id\n",
    "join titles tls ON ta.title_id = tls.title_id  \n",
    "join publishers pubs ON tls.pub_id = pubs.pub_id\n",
    "group by tls.title\n"
   ]
  },
  {
   "cell_type": "code",
   "execution_count": 74,
   "metadata": {},
   "outputs": [
    {
     "name": "stdout",
     "output_type": "stream",
     "text": [
      " * sqlite:///publications.db\n",
      "Done.\n"
     ]
    },
    {
     "data": {
      "text/html": [
       "<table>\n",
       "    <tr>\n",
       "        <th>AUTHOR ID</th>\n",
       "        <th>LAST NAME</th>\n",
       "        <th>FIRST NAME</th>\n",
       "        <th>TOTAL</th>\n",
       "    </tr>\n",
       "    <tr>\n",
       "        <td>899-46-2035</td>\n",
       "        <td>Ringer</td>\n",
       "        <td>Anne</td>\n",
       "        <td>148</td>\n",
       "    </tr>\n",
       "    <tr>\n",
       "        <td>998-72-3567</td>\n",
       "        <td>Ringer</td>\n",
       "        <td>Albert</td>\n",
       "        <td>133</td>\n",
       "    </tr>\n",
       "    <tr>\n",
       "        <td>213-46-8915</td>\n",
       "        <td>Green</td>\n",
       "        <td>Marjorie</td>\n",
       "        <td>50</td>\n",
       "    </tr>\n",
       "</table>"
      ],
      "text/plain": [
       "[('899-46-2035', 'Ringer', 'Anne', 148),\n",
       " ('998-72-3567', 'Ringer', 'Albert', 133),\n",
       " ('213-46-8915', 'Green', 'Marjorie', 50)]"
      ]
     },
     "execution_count": 74,
     "metadata": {},
     "output_type": "execute_result"
    }
   ],
   "source": [
    "%%sql\n",
    "select au.au_id as 'AUTHOR ID', au.au_lname as 'LAST NAME', au.au_fname as 'FIRST NAME', SUM(sls.qty) as 'TOTAL' \n",
    "from authors au\n",
    "join titleauthor ta ON au.au_id = ta.au_id\n",
    "join titles tls ON ta.title_id = tls.title_id  \n",
    "join sales sls ON tls.title_id = sls.title_id\n",
    "group by au.au_id\n",
    "order by total desc\n",
    "Limit 3"
   ]
  },
  {
   "cell_type": "markdown",
   "metadata": {},
   "source": [
    "## 4"
   ]
  },
  {
   "cell_type": "code",
   "execution_count": 73,
   "metadata": {},
   "outputs": [
    {
     "name": "stdout",
     "output_type": "stream",
     "text": [
      " * sqlite:///publications.db\n",
      "Done.\n"
     ]
    },
    {
     "data": {
      "text/html": [
       "<table>\n",
       "    <tr>\n",
       "        <th>AUTHOR ID</th>\n",
       "        <th>LAST NAME</th>\n",
       "        <th>FIRST NAME</th>\n",
       "        <th>TOTAL</th>\n",
       "    </tr>\n",
       "    <tr>\n",
       "        <td>899-46-2035</td>\n",
       "        <td>Ringer</td>\n",
       "        <td>Anne</td>\n",
       "        <td>148</td>\n",
       "    </tr>\n",
       "    <tr>\n",
       "        <td>998-72-3567</td>\n",
       "        <td>Ringer</td>\n",
       "        <td>Albert</td>\n",
       "        <td>133</td>\n",
       "    </tr>\n",
       "    <tr>\n",
       "        <td>213-46-8915</td>\n",
       "        <td>Green</td>\n",
       "        <td>Marjorie</td>\n",
       "        <td>50</td>\n",
       "    </tr>\n",
       "</table>"
      ],
      "text/plain": [
       "[('899-46-2035', 'Ringer', 'Anne', 148),\n",
       " ('998-72-3567', 'Ringer', 'Albert', 133),\n",
       " ('213-46-8915', 'Green', 'Marjorie', 50)]"
      ]
     },
     "execution_count": 73,
     "metadata": {},
     "output_type": "execute_result"
    }
   ],
   "source": [
    "%%sql\n",
    "select au.au_id as 'AUTHOR ID', au.au_lname as 'LAST NAME', au.au_fname as 'FIRST NAME', SUM(sls.qty) as 'TOTAL' \n",
    "from authors au\n",
    "join titleauthor ta on au.au_id=ta.au_id\n",
    "join titles tls on ta.title_id = tls.title_id  \n",
    "join sales sls on tls.title_id = sls.title_id \n",
    "group by au.au_id\n",
    "order by total desc\n",
    "Limit 3"
   ]
  },
  {
   "cell_type": "code",
   "execution_count": 77,
   "metadata": {},
   "outputs": [
    {
     "name": "stdout",
     "output_type": "stream",
     "text": [
      " * sqlite:///publications.db\n",
      "Done.\n"
     ]
    },
    {
     "data": {
      "text/html": [
       "<table>\n",
       "    <tr>\n",
       "        <th>AUTHOR ID</th>\n",
       "        <th>LAST NAME</th>\n",
       "        <th>FIRST NAME</th>\n",
       "        <th>TOTAL</th>\n",
       "    </tr>\n",
       "    <tr>\n",
       "        <td>899-46-2035</td>\n",
       "        <td>Ringer</td>\n",
       "        <td>Anne</td>\n",
       "        <td>148</td>\n",
       "    </tr>\n",
       "    <tr>\n",
       "        <td>998-72-3567</td>\n",
       "        <td>Ringer</td>\n",
       "        <td>Albert</td>\n",
       "        <td>133</td>\n",
       "    </tr>\n",
       "    <tr>\n",
       "        <td>213-46-8915</td>\n",
       "        <td>Green</td>\n",
       "        <td>Marjorie</td>\n",
       "        <td>50</td>\n",
       "    </tr>\n",
       "    <tr>\n",
       "        <td>427-17-2319</td>\n",
       "        <td>Dull</td>\n",
       "        <td>Ann</td>\n",
       "        <td>50</td>\n",
       "    </tr>\n",
       "    <tr>\n",
       "        <td>846-92-7186</td>\n",
       "        <td>Hunter</td>\n",
       "        <td>Sheryl</td>\n",
       "        <td>50</td>\n",
       "    </tr>\n",
       "    <tr>\n",
       "        <td>267-41-2394</td>\n",
       "        <td>O&#x27;Leary</td>\n",
       "        <td>Michael</td>\n",
       "        <td>45</td>\n",
       "    </tr>\n",
       "    <tr>\n",
       "        <td>724-80-9391</td>\n",
       "        <td>MacFeather</td>\n",
       "        <td>Stearns</td>\n",
       "        <td>45</td>\n",
       "    </tr>\n",
       "    <tr>\n",
       "        <td>722-51-5454</td>\n",
       "        <td>DeFrance</td>\n",
       "        <td>Michel</td>\n",
       "        <td>40</td>\n",
       "    </tr>\n",
       "    <tr>\n",
       "        <td>807-91-6654</td>\n",
       "        <td>Panteley</td>\n",
       "        <td>Sylvia</td>\n",
       "        <td>40</td>\n",
       "    </tr>\n",
       "    <tr>\n",
       "        <td>238-95-7766</td>\n",
       "        <td>Carson</td>\n",
       "        <td>Cheryl</td>\n",
       "        <td>30</td>\n",
       "    </tr>\n",
       "    <tr>\n",
       "        <td>486-29-1786</td>\n",
       "        <td>Locksley</td>\n",
       "        <td>Charlene</td>\n",
       "        <td>25</td>\n",
       "    </tr>\n",
       "    <tr>\n",
       "        <td>472-27-2349</td>\n",
       "        <td>Gringlesby</td>\n",
       "        <td>Burt</td>\n",
       "        <td>20</td>\n",
       "    </tr>\n",
       "    <tr>\n",
       "        <td>648-92-1872</td>\n",
       "        <td>Blotchet-Halls</td>\n",
       "        <td>Reginald</td>\n",
       "        <td>20</td>\n",
       "    </tr>\n",
       "    <tr>\n",
       "        <td>672-71-3249</td>\n",
       "        <td>Yokomoto</td>\n",
       "        <td>Akiko</td>\n",
       "        <td>20</td>\n",
       "    </tr>\n",
       "    <tr>\n",
       "        <td>756-30-7391</td>\n",
       "        <td>Karsen</td>\n",
       "        <td>Livia</td>\n",
       "        <td>20</td>\n",
       "    </tr>\n",
       "    <tr>\n",
       "        <td>172-32-1176</td>\n",
       "        <td>White</td>\n",
       "        <td>Johnson</td>\n",
       "        <td>15</td>\n",
       "    </tr>\n",
       "    <tr>\n",
       "        <td>274-80-9391</td>\n",
       "        <td>Straight</td>\n",
       "        <td>Dean</td>\n",
       "        <td>15</td>\n",
       "    </tr>\n",
       "    <tr>\n",
       "        <td>409-56-7008</td>\n",
       "        <td>Bennet</td>\n",
       "        <td>Abraham</td>\n",
       "        <td>15</td>\n",
       "    </tr>\n",
       "    <tr>\n",
       "        <td>712-45-1867</td>\n",
       "        <td>del Castillo</td>\n",
       "        <td>Innes</td>\n",
       "        <td>10</td>\n",
       "    </tr>\n",
       "</table>"
      ],
      "text/plain": [
       "[('899-46-2035', 'Ringer', 'Anne', 148),\n",
       " ('998-72-3567', 'Ringer', 'Albert', 133),\n",
       " ('213-46-8915', 'Green', 'Marjorie', 50),\n",
       " ('427-17-2319', 'Dull', 'Ann', 50),\n",
       " ('846-92-7186', 'Hunter', 'Sheryl', 50),\n",
       " ('267-41-2394', \"O'Leary\", 'Michael', 45),\n",
       " ('724-80-9391', 'MacFeather', 'Stearns', 45),\n",
       " ('722-51-5454', 'DeFrance', 'Michel', 40),\n",
       " ('807-91-6654', 'Panteley', 'Sylvia', 40),\n",
       " ('238-95-7766', 'Carson', 'Cheryl', 30),\n",
       " ('486-29-1786', 'Locksley', 'Charlene', 25),\n",
       " ('472-27-2349', 'Gringlesby', 'Burt', 20),\n",
       " ('648-92-1872', 'Blotchet-Halls', 'Reginald', 20),\n",
       " ('672-71-3249', 'Yokomoto', 'Akiko', 20),\n",
       " ('756-30-7391', 'Karsen', 'Livia', 20),\n",
       " ('172-32-1176', 'White', 'Johnson', 15),\n",
       " ('274-80-9391', 'Straight', 'Dean', 15),\n",
       " ('409-56-7008', 'Bennet', 'Abraham', 15),\n",
       " ('712-45-1867', 'del Castillo', 'Innes', 10)]"
      ]
     },
     "execution_count": 77,
     "metadata": {},
     "output_type": "execute_result"
    }
   ],
   "source": [
    "%%sql\n",
    "select au.au_id as 'AUTHOR ID', au.au_lname as 'LAST NAME', au.au_fname as 'FIRST NAME', ifnull(sum(sls.qty), 0) as 'TOTAL'\n",
    "from authors au\n",
    "join \n",
    "    titleauthor ta ON au.au_id=ta.au_id\n",
    "join\n",
    "    titles tls ON ta.title_id = tls.title_id  \n",
    "join\n",
    "    sales sls ON tls.title_id = sls.title_id\n",
    "      \n",
    "group by au.au_id\n",
    "order by total desc"
   ]
  },
  {
   "cell_type": "code",
   "execution_count": null,
   "metadata": {},
   "outputs": [],
   "source": []
  },
  {
   "cell_type": "code",
   "execution_count": null,
   "metadata": {},
   "outputs": [],
   "source": []
  },
  {
   "cell_type": "code",
   "execution_count": null,
   "metadata": {},
   "outputs": [],
   "source": []
  },
  {
   "cell_type": "code",
   "execution_count": null,
   "metadata": {},
   "outputs": [],
   "source": []
  },
  {
   "cell_type": "code",
   "execution_count": null,
   "metadata": {},
   "outputs": [],
   "source": []
  },
  {
   "cell_type": "code",
   "execution_count": null,
   "metadata": {},
   "outputs": [],
   "source": []
  },
  {
   "cell_type": "code",
   "execution_count": null,
   "metadata": {},
   "outputs": [],
   "source": []
  },
  {
   "cell_type": "code",
   "execution_count": null,
   "metadata": {},
   "outputs": [],
   "source": []
  },
  {
   "cell_type": "code",
   "execution_count": null,
   "metadata": {},
   "outputs": [],
   "source": []
  },
  {
   "cell_type": "code",
   "execution_count": null,
   "metadata": {},
   "outputs": [],
   "source": []
  },
  {
   "cell_type": "code",
   "execution_count": null,
   "metadata": {},
   "outputs": [],
   "source": []
  },
  {
   "cell_type": "code",
   "execution_count": null,
   "metadata": {},
   "outputs": [],
   "source": []
  },
  {
   "cell_type": "code",
   "execution_count": null,
   "metadata": {},
   "outputs": [],
   "source": []
  },
  {
   "cell_type": "code",
   "execution_count": null,
   "metadata": {},
   "outputs": [],
   "source": []
  },
  {
   "cell_type": "code",
   "execution_count": null,
   "metadata": {},
   "outputs": [],
   "source": []
  },
  {
   "cell_type": "code",
   "execution_count": null,
   "metadata": {},
   "outputs": [],
   "source": []
  },
  {
   "cell_type": "code",
   "execution_count": null,
   "metadata": {},
   "outputs": [],
   "source": []
  },
  {
   "cell_type": "code",
   "execution_count": null,
   "metadata": {},
   "outputs": [],
   "source": []
  },
  {
   "cell_type": "code",
   "execution_count": null,
   "metadata": {},
   "outputs": [],
   "source": []
  },
  {
   "cell_type": "code",
   "execution_count": null,
   "metadata": {},
   "outputs": [],
   "source": []
  },
  {
   "cell_type": "code",
   "execution_count": null,
   "metadata": {},
   "outputs": [],
   "source": []
  },
  {
   "cell_type": "code",
   "execution_count": null,
   "metadata": {},
   "outputs": [],
   "source": []
  }
 ],
 "metadata": {
  "kernelspec": {
   "display_name": "Python 3",
   "language": "python",
   "name": "python3"
  },
  "language_info": {
   "codemirror_mode": {
    "name": "ipython",
    "version": 3
   },
   "file_extension": ".py",
   "mimetype": "text/x-python",
   "name": "python",
   "nbconvert_exporter": "python",
   "pygments_lexer": "ipython3",
   "version": "3.7.6"
  }
 },
 "nbformat": 4,
 "nbformat_minor": 4
}
